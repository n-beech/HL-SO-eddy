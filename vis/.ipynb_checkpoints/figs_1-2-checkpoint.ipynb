{
 "cells": [
  {
   "cell_type": "code",
   "execution_count": null,
   "id": "c416d795-4ce7-4a2e-b47f-e5102b56b183",
   "metadata": {
    "tags": []
   },
   "outputs": [],
   "source": [
    "import numpy as np\n",
    "import xarray as xr\n",
    "import matplotlib.pyplot as plt\n",
    "import sys\n",
    "import pickle\n",
    "import eddytools as et\n",
    "import tripyview as tpv\n",
    "\n",
    "import math\n",
    "from cmocean import cm as cmo\n",
    "import matplotlib.path as mpath\n",
    "import cartopy.crs as ccrs\n",
    "import scipy.stats as st"
   ]
  },
  {
   "cell_type": "code",
   "execution_count": null,
   "id": "351c81b9",
   "metadata": {},
   "outputs": [],
   "source": [
    "#choose depth\n",
    "depth='-97.5m' #"
   ]
  },
  {
   "cell_type": "code",
   "execution_count": null,
   "id": "24abfa6f-de95-4a4d-b472-a52fb63b3ad3",
   "metadata": {
    "tags": []
   },
   "outputs": [],
   "source": [
    "figpath='/PATH/TO/OUTPUT/'\n",
    "datapath='/PATH/TO/DATA/'"
   ]
  },
  {
   "cell_type": "code",
   "execution_count": null,
   "id": "ff552dd2-d42e-457f-8e0c-40caa9bba4f8",
   "metadata": {
    "tags": []
   },
   "outputs": [],
   "source": [
    "def simple_plot(dpi=300,\n",
    "                ygridlocs=[-80,-75,-70,-65,-60],\n",
    "                figsize=(6,6),\n",
    "                box=[-180,180,-80,-60],\n",
    "                cols=1,\n",
    "                rows=1,\n",
    "               ):\n",
    "    \n",
    "    fig, axes = plt.subplots(\n",
    "                rows,cols,\n",
    "                subplot_kw=dict(projection=ccrs.SouthPolarStereo()),\n",
    "                constrained_layout=True,\n",
    "                figsize=figsize,\n",
    "                dpi=dpi,\n",
    "                # facecolor='lightgrey',\n",
    "            )\n",
    "    if isinstance(axes, np.ndarray):\n",
    "        axesflat = axes.flatten()\n",
    "    else:\n",
    "        axesflat = [axesflat]\n",
    "    for ax in axesflat:\n",
    "        ax.set_extent(box, crs=ccrs.PlateCarree())\n",
    "        theta = np.linspace(0, 2*np.pi, 100)\n",
    "        center, radius = [0.5, 0.505], 0.5\n",
    "        verts = np.vstack([np.sin(theta), np.cos(theta)]).T\n",
    "        circle = mpath.Path(verts * radius + center)\n",
    "\n",
    "        ax.set_boundary(circle, transform=ax.transAxes)\n",
    "        ax.gridlines(crs=ccrs.PlateCarree(), draw_labels=False, linewidth=0.5, \\\n",
    "                xlocs=range(-180,171,30), ylocs=[], \\\n",
    "                color='gray', alpha=0.5, linestyle='--', zorder=10)\n",
    "        # Draw concentric circles (but hide labels) for the parallels of the latitude\n",
    "        ax.gridlines(crs=ccrs.PlateCarree(), draw_labels=False, linewidth=0.5, \\\n",
    "                        xlocs=[], ylocs=ygridlocs, \\\n",
    "                        color='grey', alpha=0.5, linestyle='--', zorder=10)\n",
    "\n",
    "        # ax.coastlines(lw=0.5, resolution=\"110m\", facecolor='k',zorder=101)\n",
    "\n",
    "    return fig, axes\n"
   ]
  },
  {
   "cell_type": "code",
   "execution_count": null,
   "id": "6c904d7e-28d7-4f07-a36d-87928b7f634f",
   "metadata": {
    "tags": []
   },
   "outputs": [],
   "source": [
    "#used for land mask\n",
    "mesh=tpv.load_mesh_fesom2('/PATH/TO/MESH/', do_rot='None', focus=0, do_info=False, do_pickle=False,\n",
    "                          do_earea=False, do_narea=False, do_eresol=[False,'mean'], do_nresol=[False,'eresol'])\n"
   ]
  },
  {
   "cell_type": "code",
   "execution_count": null,
   "id": "686c4351-b61d-4779-b3c1-7a6ef2fcebd4",
   "metadata": {
    "tags": []
   },
   "outputs": [],
   "source": [
    "#load eddies\n",
    "with open(datapath+'so3_et_track_'+str(depth)+'_10-100kmbp_np100_owthr01_1951-1956.pickle','rb') as f:\n",
    "        t50=pickle.load(f)\n",
    "with open(datapath+'so3_et_track_'+str(depth)+'_10-100kmbp_np100_owthr01_2091-2096.pickle','rb') as f:\n",
    "        t90=pickle.load(f)\n",
    "f.close()"
   ]
  },
  {
   "cell_type": "code",
   "execution_count": null,
   "id": "c0ce1c32-0ae0-4319-9e83-176c7f1f5d5d",
   "metadata": {
    "tags": []
   },
   "outputs": [],
   "source": [
    "#filter for length\n",
    "t50_3d=[i for i in t50 if len(i['time']) >3]\n",
    "t90_3d=[i for i in t90 if len(i['time']) >3]"
   ]
  },
  {
   "cell_type": "code",
   "execution_count": null,
   "id": "7bf3d69d-5879-4be7-af57-d9a99ac3d6ee",
   "metadata": {
    "tags": []
   },
   "outputs": [],
   "source": [
    "#filter for non-stationary eddies and calculate propagation speed\n",
    "non_station_50=[]\n",
    "ns_50_travelled_speed=[]\n",
    "for track in t50_3d:\n",
    "    dists=[]\n",
    "    for i in np.arange(len(track['lon'])-1):\n",
    "        dists.append(et.tracking.get_distance_latlon2m(track['lon'][i],track['lat'][i],track['lon'][i+1],track['lat'][i+1]))\n",
    "    travelled=np.sum(dists)\n",
    "    traversed=et.tracking.get_distance_latlon2m(track['lon'][0],track['lat'][0],track['lon'][-1],track['lat'][-1])\n",
    "\n",
    "    if traversed/len(track['time'])>1000:\n",
    "        non_station_50.append(track)\n",
    "        ns_50_travelled_speed.append(travelled/len(track['time']))\n",
    "\n",
    "non_station_90=[]\n",
    "ns_90_travelled_speed=[]\n",
    "for track in t90_3d:\n",
    "    dists=[]\n",
    "    for i in np.arange(len(track['lon'])-1):\n",
    "        dists.append(et.tracking.get_distance_latlon2m(track['lon'][i],track['lat'][i],track['lon'][i+1],track['lat'][i+1]))\n",
    "    travelled=np.sum(dists)\n",
    "    traversed=et.tracking.get_distance_latlon2m(track['lon'][0],track['lat'][0],track['lon'][-1],track['lat'][-1])\n",
    "    \n",
    "    if traversed/len(track['time'])>1000:\n",
    "        non_station_90.append(track)\n",
    "        ns_90_travelled_speed.append(travelled/len(track['time']))"
   ]
  },
  {
   "cell_type": "code",
   "execution_count": null,
   "id": "9cf8f1e5-2c29-4430-a498-3de06cddda2b",
   "metadata": {
    "tags": []
   },
   "outputs": [],
   "source": [
    "#extract data from dicts \n",
    "lts_50=[len(track['time']) for track in non_station_50]\n",
    "lts_90=[len(track['time']) for track in non_station_90]\n",
    "\n",
    "speed_50=[ns_50_travelled_speed[i] for i in np.arange(len(non_station_50))]\n",
    "speed_90=[ns_90_travelled_speed[i] for i in np.arange(len(non_station_90))]\n",
    "\n",
    "areas_50=[track['area'] for track in non_station_50]\n",
    "areas_90=[track['area'] for track in non_station_90]\n",
    "\n",
    "amps_50=[track['amp'] for track in non_station_50]\n",
    "amps_90=[track['amp'] for track in non_station_90]\n",
    "\n",
    "#daily location\n",
    "lats50=[track['lat'] for track in non_station_50]\n",
    "lats90=[track['lat'] for track in non_station_90]\n",
    "\n",
    "lons50=[track['lon'] for track in non_station_50]\n",
    "lons90=[track['lon'] for track in non_station_90]\n",
    "\n",
    "#genesis location\n",
    "latb_50=[track['lat'][0] for track in non_station_50]\n",
    "latb_90=[track['lat'][0] for track in non_station_90]\n",
    "\n",
    "lonb_50=[track['lon'][0] for track in non_station_50]\n",
    "lonb_90=[track['lon'][0] for track in non_station_90]\n",
    "\n",
    "#distances for propagation\n",
    "deltalon_50=[track['lon'][-1]-track['lon'][0] for track in non_station_50]\n",
    "deltalon_90=[track['lon'][-1]-track['lon'][0] for track in non_station_90]\n",
    "\n",
    "deltalat_50=[track['lat'][-1]-track['lat'][0] for track in non_station_50]\n",
    "deltalat_90=[track['lat'][-1]-track['lat'][0] for track in non_station_90]"
   ]
  },
  {
   "cell_type": "code",
   "execution_count": null,
   "id": "8cc2997a-9930-4d97-90cc-a370f7c2d91a",
   "metadata": {
    "tags": []
   },
   "outputs": [],
   "source": [
    "#compute eddy statistics"
   ]
  },
  {
   "cell_type": "code",
   "execution_count": null,
   "id": "405f18df-1ee5-4061-9c22-2a8b991ad772",
   "metadata": {
    "tags": []
   },
   "outputs": [],
   "source": [
    "binsize=0.5 #degrees"
   ]
  },
  {
   "cell_type": "code",
   "execution_count": null,
   "id": "efec562f-ed3a-4ce5-b4ce-9ca9e267d9e7",
   "metadata": {
    "tags": []
   },
   "outputs": [],
   "source": [
    "#eddy lifespan. 1 value per eddy - binned by genesis location\n",
    "lts_50_binned=st.binned_statistic_2d(lonb_50, latb_50, lts_50,statistic='mean',bins=[np.arange(-180,181,binsize),np.arange(-80,-59,binsize)],expand_binnumbers=True)\n",
    "lts_90_binned=st.binned_statistic_2d(lonb_90, latb_90, lts_90,statistic='mean',bins=[np.arange(-180,181,binsize),np.arange(-80,-59,binsize)],expand_binnumbers=True)"
   ]
  },
  {
   "cell_type": "code",
   "execution_count": null,
   "id": "9ac1f0be-7831-4b9f-83b8-72b60318dcba",
   "metadata": {
    "tags": []
   },
   "outputs": [],
   "source": [
    "#eddy area. 1 value per eddy per day - binned by daily location\n",
    "area_50_binned=st.binned_statistic_2d(np.hstack(lons50),np.hstack(lats50), np.hstack(areas_50),statistic='mean',bins=[np.arange(-180,181,binsize),np.arange(-80,-59,binsize)],expand_binnumbers=True)\n",
    "area_90_binned=st.binned_statistic_2d(np.hstack(lons90),np.hstack(lats90), np.hstack(areas_90),statistic='mean',bins=[np.arange(-180,181,binsize),np.arange(-80,-59,binsize)],expand_binnumbers=True)"
   ]
  },
  {
   "cell_type": "code",
   "execution_count": null,
   "id": "0521f273-372d-4069-8e97-638fe164ffeb",
   "metadata": {
    "tags": []
   },
   "outputs": [],
   "source": [
    "#eddy vorticity amplitude. 1 value per eddy per day - binned by daily location\n",
    "amp_50_binned=st.binned_statistic_2d(np.hstack(lons50),np.hstack(lats50), np.hstack(amps_50),statistic='mean',bins=[np.arange(-180,181,binsize),np.arange(-80,-59,binsize)],expand_binnumbers=True)\n",
    "amp_90_binned=st.binned_statistic_2d(np.hstack(lons90),np.hstack(lats90), np.hstack(amps_90),statistic='mean',bins=[np.arange(-180,181,binsize),np.arange(-80,-59,binsize)],expand_binnumbers=True)"
   ]
  },
  {
   "cell_type": "code",
   "execution_count": null,
   "id": "32cf3936-8455-4c41-8b91-1b231a89e23f",
   "metadata": {
    "tags": []
   },
   "outputs": [],
   "source": [
    "#eddy speed. 1 value per eddy - binned by genesis location\n",
    "speed_50_binned=st.binned_statistic_2d(lonb_50,latb_50,speed_50,statistic='mean',bins=[np.arange(-180,181,binsize),np.arange(-80,-59,binsize)],expand_binnumbers=True)\n",
    "speed_90_binned=st.binned_statistic_2d(lonb_90,latb_90,speed_90,statistic='mean',bins=[np.arange(-180,181,binsize),np.arange(-80,-59,binsize)],expand_binnumbers=True)"
   ]
  },
  {
   "cell_type": "code",
   "execution_count": null,
   "id": "d74a035f-7c63-416c-8635-690059b08a23",
   "metadata": {
    "tags": []
   },
   "outputs": [],
   "source": [
    "#eddy presence. 1 count per eddy per day - binned by daily location\n",
    "ep_50_binned=st.binned_statistic_2d(np.hstack(lons50),np.hstack(lats50),np.hstack(lons50),statistic='count',bins=[np.arange(-180,181,binsize),np.arange(-80,-59,binsize)],expand_binnumbers=True)\n",
    "ep_90_binned=st.binned_statistic_2d(np.hstack(lons90),np.hstack(lats90),np.hstack(lons90),statistic='count',bins=[np.arange(-180,181,binsize),np.arange(-80,-59,binsize)],expand_binnumbers=True)"
   ]
  },
  {
   "cell_type": "code",
   "execution_count": null,
   "id": "db942420",
   "metadata": {},
   "outputs": [],
   "source": [
    "#propagation arrows\n",
    "deltalonlb_50_binned=st.binned_statistic_2d(lonb_50,latb_50,deltalon_50,statistic='mean',bins=[np.arange(-180,181,8),np.arange(-78,-59,2.5)],expand_binnumbers=True)\n",
    "deltalonlb_90_binned=st.binned_statistic_2d(lonb_90,latb_90,deltalon_90,statistic='mean',bins=[np.arange(-180,181,8),np.arange(-78,-59,2.5)],expand_binnumbers=True)\n",
    "\n",
    "deltalatlb_50_binned=st.binned_statistic_2d(lonb_50,latb_50,deltalat_50,statistic='mean',bins=[np.arange(-180,181,8),np.arange(-78,-59,2.5)],expand_binnumbers=True)\n",
    "deltalatlb_90_binned=st.binned_statistic_2d(lonb_90,latb_90,deltalat_90,statistic='mean',bins=[np.arange(-180,181,8),np.arange(-78,-59,2.5)],expand_binnumbers=True)\n",
    "\n",
    "#sample size in bins\n",
    "propsslb_50_binned=st.binned_statistic_2d(lonb_50,latb_50,deltalat_50,statistic='count',bins=[np.arange(-180,181,8),np.arange(-78,-59,2.5)],expand_binnumbers=True)\n",
    "propsslb_90_binned=st.binned_statistic_2d(lonb_90,latb_90,deltalat_50,statistic='count',bins=[np.arange(-180,181,8),np.arange(-78,-59,2.5)],expand_binnumbers=True)\n",
    "\n",
    "#mask low sample size\n",
    "alph50lb=[0.8 if al>50 else 0 for al in propsslb_50_binned[0].flatten() ]\n",
    "alph90lb=[0.8 if al>50 else 0 for al in propsslb_90_binned[0].flatten() ]"
   ]
  },
  {
   "cell_type": "markdown",
   "id": "be47a252",
   "metadata": {
    "tags": []
   },
   "source": [
    "Plotting"
   ]
  },
  {
   "cell_type": "code",
   "execution_count": null,
   "id": "9ab0cf3d-454e-4c82-8ace-8dfaaaef86f3",
   "metadata": {
    "tags": []
   },
   "outputs": [],
   "source": [
    "#bin centers\n",
    "lons=ep_50_binned[1][1:]-(binsize/2)\n",
    "lats=ep_50_binned[2][1:]-(binsize/2)"
   ]
  },
  {
   "cell_type": "code",
   "execution_count": null,
   "id": "729d3414-8708-4418-97cf-1bd71744b797",
   "metadata": {
    "tags": []
   },
   "outputs": [],
   "source": [
    "labels=['a','b','c','d','e','f','g']"
   ]
  },
  {
   "cell_type": "code",
   "execution_count": null,
   "id": "564b0843-c8f1-456b-8281-6cae563eab94",
   "metadata": {
    "tags": []
   },
   "outputs": [],
   "source": [
    "#bin areas in km^2\n",
    "#0.5 deg latitude * cos(lat) * 0.5 deg longitude\n",
    "binsizes=(binsize*111.32)*(binsize*np.cos(np.radians(lats))*111.32)"
   ]
  },
  {
   "cell_type": "code",
   "execution_count": null,
   "id": "78227a0b-a37f-4351-917d-06d5338ba9ee",
   "metadata": {
    "tags": []
   },
   "outputs": [],
   "source": [
    "#bathymetry\n",
    "bathyreg=np.load('/PATH/TO/BATHYMETRY/bathy.npy')\n",
    "sampled=xr.open_dataset('/PATH/TO/UV/DATA/uv_fgrid_100m_1951_'+str(0).zfill(4)+'.nc')"
   ]
  },
  {
   "cell_type": "code",
   "execution_count": null,
   "id": "4f125129-b7c8-44c8-b60a-89dc73cf76e0",
   "metadata": {
    "tags": []
   },
   "outputs": [],
   "source": [
    "#colormaps. crop dark parts\n",
    "rm = cmo.tools.crop_by_percent(cmo.amp, 20, which='max', N=None)\n",
    "rbm = cmo.tools.crop_by_percent(cmo.balance, 20, which='both', N=None)"
   ]
  },
  {
   "cell_type": "code",
   "execution_count": null,
   "id": "7fba8001",
   "metadata": {},
   "outputs": [],
   "source": [
    "#Figure 1\n",
    "fig,axes=simple_plot(dpi=300,\n",
    "                ygridlocs=[-80,-75,-70,-65,-60],\n",
    "                figsize=(12,6),\n",
    "                box=[-180,180,-80,-59],\n",
    "                rows=1,\n",
    "                cols=3)\n",
    "\n",
    "#titles\n",
    "titlesize=20\n",
    "axes[0].set_title('1951-1956',fontsize=titlesize)\n",
    "axes[1].set_title('2091-2096',fontsize=titlesize)\n",
    "axes[2].set_title('Change',fontsize=titlesize)\n",
    "\n",
    "plt.rc('xtick',labelsize=14)\n",
    "plt.rc('ytick',labelsize=14)\n",
    "plt.rc('axes',labelsize=14)\n",
    "    \n",
    "#data for plotting\n",
    "data0_50,data0_90=(ep_50_binned[0]/((365*6)+2))/(binsizes*0.0001),(ep_90_binned[0]/((365*6)+2))/(binsizes*0.0001) #eddies/day/km^2 + 2 leap years\n",
    "data0_dif=data0_90.T-data0_50.T\n",
    "data0_50[data0_50==0]=np.nan\n",
    "data0_90[data0_90==0]=np.nan\n",
    "\n",
    "#presence\n",
    "cax_0=axes[0].pcolormesh(lons,lats,data0_50.T,vmin=0,vmax=1,cmap=rm,transform=ccrs.PlateCarree())\n",
    "axes[1].pcolormesh(lons,lats,data0_90.T,vmin=0,vmax=1,cmap=rm,transform=ccrs.PlateCarree())\n",
    "dax_0=axes[2].pcolormesh(lons,lats,data0_dif,vmin=-0.5,vmax=0.5,cmap=cmo.balance,transform=ccrs.PlateCarree())\n",
    "\n",
    "#propagation\n",
    "starterlons,starterlats=np.meshgrid(deltalonlb_50_binned[1][:-1]+4,deltalonlb_50_binned[2][:-1]+1.25) #add 0.5*binsize for bin center\n",
    "for i in np.arange(0,len(starterlons.T.flatten())):\n",
    "    if np.isnan(deltalonlb_50_binned[0].flatten()[i]) or np.isnan(deltalatlb_50_binned[0].flatten()[i]) :\n",
    "        continue\n",
    "    else:\n",
    "        axes[0].arrow(starterlons.T.flatten()[i],starterlats.T.flatten()[i],\n",
    "             (deltalonlb_50_binned[0]*4).flatten()[i],(deltalatlb_50_binned[0]*4).flatten()[i], #*4 for visisbility\n",
    "             facecolor='k',edgecolor='none',transform=ccrs.PlateCarree(),width=0.3,length_includes_head=False,\n",
    "                     alpha=alph50lb[i])\n",
    "        \n",
    "starterlons,starterlats=np.meshgrid(deltalonlb_90_binned[1][:-1]+4,deltalonlb_90_binned[2][:-1]+1.25)\n",
    "for i in np.arange(0,len(starterlons.T.flatten())):\n",
    "    if np.isnan(deltalonlb_90_binned[0].flatten()[i]) or np.isnan(deltalatlb_90_binned[0].flatten()[i]) :\n",
    "        continue\n",
    "    else:\n",
    "        axes[1].arrow(starterlons.T.flatten()[i],starterlats.T.flatten()[i],\n",
    "             (deltalonlb_90_binned[0]*4).flatten()[i],(deltalatlb_90_binned[0]*4).flatten()[i],\n",
    "             facecolor='k',edgecolor='none',transform=ccrs.PlateCarree(),width=0.3,length_includes_head=False,\n",
    "                     alpha=alph90lb[i])\n",
    "\n",
    "#colorbars\n",
    "plt.colorbar(cax_0,ax=axes[:2],orientation='horizontal',label='Eddy presence (eddies/day/100$km^2$)',extend='max')\n",
    "plt.colorbar(dax_0,ax=axes[2],orientation='horizontal',label='Δ Eddy presence (eddies/day/100$km^2$)',extend='both',pad=0.07)\n",
    "\n",
    "#land mask and bathymetry\n",
    "for ax in axes.flatten():\n",
    "    ax.add_geometries(mesh.lsmask_p, crs=ccrs.PlateCarree(), \n",
    "                              facecolor=[0.6,0.6,0.6], edgecolor='none' ,linewidth=1,zorder=100)\n",
    "    ax.contour(sampled.XG,sampled.YG,bathyreg,levels=[2150],linewidths=0.6,colors='k',transform=ccrs.PlateCarree())\n",
    "\n",
    "# plt.savefig(figpath+'eddy_presence_'+str(depth)+'.png',bbox_inches='tight')"
   ]
  },
  {
   "cell_type": "code",
   "execution_count": null,
   "id": "0ff66ff4-944d-451a-bc7d-9a857be89d7f",
   "metadata": {},
   "outputs": [],
   "source": [
    "#figure 2\n",
    "fig,axes=simple_plot(dpi=300,\n",
    "                ygridlocs=[-80,-75,-70,-65,-60],\n",
    "                figsize=(12,20),\n",
    "                box=[-180,180,-80,-59],\n",
    "                rows=4,\n",
    "                cols=3)\n",
    "\n",
    "titlesize=20\n",
    "axes[0,0].set_title('1951-1956',fontsize=titlesize)\n",
    "axes[0,1].set_title('2091-2096',fontsize=titlesize)\n",
    "axes[0,2].set_title('Change',fontsize=titlesize)\n",
    "\n",
    "plt.rc('xtick',labelsize=14)\n",
    "plt.rc('ytick',labelsize=14)\n",
    "plt.rc('axes',labelsize=14)\n",
    "\n",
    "#define data for each row\n",
    "data0_50,data0_90=amp_50_binned[0],amp_90_binned[0] \n",
    "data1_50,data1_90=lts_50_binned[0],lts_90_binned[0]\n",
    "data2_50,data2_90=speed_50_binned[0],speed_90_binned[0]\n",
    "data3_50,data3_90=area_50_binned[0],area_90_binned[0]\n",
    "\n",
    "#plot data\n",
    "#vorticity amplitude\n",
    "cax_0=axes[0,0].pcolormesh(lons,lats,data0_50.T*10e5,vmin=0,vmax=10,cmap=rm,transform=ccrs.PlateCarree())\n",
    "axes[0,1].pcolormesh(lons,lats,data0_90.T*10e5,vmin=0,vmax=10,cmap=rm,transform=ccrs.PlateCarree())\n",
    "dax_0=axes[0,2].pcolormesh(lons,lats,data0_90.T*10e5-data0_50.T*10e5,vmin=-2,vmax=2,cmap=rbm,transform=ccrs.PlateCarree())\n",
    "\n",
    "#row 0 colorbars\n",
    "plt.colorbar(cax_0,ax=axes[0,:2],orientation='horizontal',label='Eddy vorticity amplitude ($10^5 s^{-1}$)',extend='max')\n",
    "plt.colorbar(dax_0,ax=axes[0,2],orientation='horizontal',label='Δ Eddy vorticity amplitude ($10^5 s^{-1}$)',extend='both')\n",
    "\n",
    "#lifespan\n",
    "cax_1=axes[1,0].pcolormesh(lons,lats,data1_50.T,vmin=0,vmax=45,cmap=rm,transform=ccrs.PlateCarree())\n",
    "axes[1,1].pcolormesh(lons,lats,data1_90.T,vmin=0,vmax=45,cmap=rm,transform=ccrs.PlateCarree())\n",
    "dax_1=axes[1,2].pcolormesh(lons,lats,data1_90.T-data1_50.T,vmin=-20,vmax=20,cmap=rbm,transform=ccrs.PlateCarree())\n",
    "\n",
    "#row 1 colorbars\n",
    "plt.colorbar(cax_1,ax=axes[1,:2],orientation='horizontal',label='Mean eddy lifespan (days)',extend='max')\n",
    "plt.colorbar(dax_1,ax=axes[1,2],orientation='horizontal',label='Δ Mean eddy lifespan (days)',extend='both')\n",
    "\n",
    "#speed\n",
    "cax_2=axes[2,0].pcolormesh(lons,lats,data2_50.T,vmin=0,vmax=5000,cmap=rm,transform=ccrs.PlateCarree())\n",
    "axes[2,1].pcolormesh(lons,lats,data2_90.T,vmin=0,vmax=5000,cmap=rm,transform=ccrs.PlateCarree())\n",
    "dax_2=axes[2,2].pcolormesh(lons,lats,data2_90.T-data2_50.T,vmin=-1500,vmax=1500,cmap=rbm,transform=ccrs.PlateCarree())\n",
    "\n",
    "#row 2 colorbars\n",
    "plt.colorbar(cax_2,ax=axes[2,:2],orientation='horizontal',label='Mean eddy propagation speed (m/day)',extend='max')\n",
    "plt.colorbar(dax_2,ax=axes[2,2],orientation='horizontal',label='Δ Mean eddy propagation speed (m/day)',extend='both')\n",
    "\n",
    "#Area\n",
    "cax_3=axes[3,0].pcolormesh(lons,lats,data3_50.T,vmin=0,vmax=5000,cmap=rm,transform=ccrs.PlateCarree())\n",
    "axes[3,1].pcolormesh(lons,lats,data3_90.T,vmin=0,vmax=5000,cmap=rm,transform=ccrs.PlateCarree())\n",
    "dax_3=axes[3,2].pcolormesh(lons,lats,data3_90.T-data3_50.T,vmin=-1000,vmax=1000,cmap=rbm,transform=ccrs.PlateCarree())\n",
    "\n",
    "#row 3 colorbars\n",
    "plt.colorbar(cax_3,ax=axes[3,:2],orientation='horizontal',label='Eddy area ($km^2$)',extend='max')\n",
    "plt.colorbar(dax_3,ax=axes[3,2],orientation='horizontal',label='Δ Eddy area ($km^2$)',extend='both')\n",
    "\n",
    "#land mask and bathymetry\n",
    "for ax in axes.flatten():\n",
    "    ax.add_geometries(mesh.lsmask_p, crs=ccrs.PlateCarree(), \n",
    "                              facecolor=[0.6,0.6,0.6], edgecolor='none' ,linewidth=1,zorder=100)\n",
    "    ax.contour(sampled.XG,sampled.YG,bathyreg,levels=[2200],linewidths=0.5,colors='k',transform=ccrs.PlateCarree())\n",
    "\n",
    "#labels\n",
    "for num,ax in enumerate(axes[:,0]):\n",
    "    ax.annotate(labels[num], xy=(0.05, 0.9),xycoords='axes fraction',horizontalalignment='left', \n",
    "                     verticalalignment='bottom',fontsize=22,weight='bold')\n",
    "\n",
    "# plt.savefig(figpath+'eddy_properties_'+str(depth)+'.png',bbox_inches='tight')"
   ]
  }
 ],
 "metadata": {
  "kernelspec": {
   "display_name": "0 Python 3 (based on the module python3/unstable",
   "language": "python",
   "name": "python3_unstable"
  },
  "language_info": {
   "codemirror_mode": {
    "name": "ipython",
    "version": 3
   },
   "file_extension": ".py",
   "mimetype": "text/x-python",
   "name": "python",
   "nbconvert_exporter": "python",
   "pygments_lexer": "ipython3",
   "version": "3.10.10"
  }
 },
 "nbformat": 4,
 "nbformat_minor": 5
}
