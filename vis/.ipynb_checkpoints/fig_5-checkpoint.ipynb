{
 "cells": [
  {
   "cell_type": "code",
   "execution_count": null,
   "id": "d1716714-3295-45a0-a77f-9b2f826d5159",
   "metadata": {
    "tags": []
   },
   "outputs": [],
   "source": [
    "import numpy as np\n",
    "import xarray as xr\n",
    "import pickle\n",
    "import matplotlib.pyplot as plt\n",
    "import sys\n",
    "import eddytools as et\n",
    "import datetime as dt\n",
    "from joblib import Parallel, delayed\n",
    "from scipy import stats as st\n",
    "import cmocean.cm as cmo\n",
    "import statsmodels.stats.proportion as ssp"
   ]
  },
  {
   "cell_type": "code",
   "execution_count": null,
   "id": "aeb6ca38-ac3d-404a-9d8a-40b207a1f7f5",
   "metadata": {
    "tags": []
   },
   "outputs": [],
   "source": [
    "datapath='/PATH/TO/DATA/'\n",
    "figpath='/PATH/TO/OUTPUT/'"
   ]
  },
  {
   "cell_type": "code",
   "execution_count": null,
   "id": "ca4befa4-ed58-4552-967d-a609dcec713f",
   "metadata": {
    "tags": []
   },
   "outputs": [],
   "source": [
    "#surface\n",
    "with open(datapath+'so3_et_track_-0.0m_10-100kmbp_np100_owthr01_'+str(1951)+'-'+str(1956)+'.pickle','rb') as f:\n",
    "        t50_0m=pickle.load(f)\n",
    "with open(datapath+'so3_et_track_-0.0m_10-100kmbp_np100_owthr01_'+str(2091)+'-'+str(2096)+'.pickle','rb') as f:\n",
    "        t90_0m=pickle.load(f)\n",
    "#25-30m\n",
    "with open(datapath+'so3_et_track_-25.0m_10-100kmbp_np100_owthr01_'+str(1951)+'-'+str(1956)+'.pickle','rb') as f:\n",
    "        t50_25m=pickle.load(f)\n",
    "with open(datapath+'so3_et_track_-25.0m_10-100kmbp_np100_owthr01_'+str(2091)+'-'+str(2096)+'.pickle','rb') as f:\n",
    "        t90_25m=pickle.load(f)\n",
    "#95-100m\n",
    "with open(datapath+'so3_et_track_-95.0m_10-100kmbp_np100_owthr01_'+str(1951)+'-'+str(1956)+'.pickle','rb') as f:\n",
    "        t50_95m=pickle.load(f)\n",
    "with open(datapath+'so3_et_track_-95.0m_10-100kmbp_np100_owthr01_'+str(2091)+'-'+str(2096)+'.pickle','rb') as f:\n",
    "        t90_95m=pickle.load(f)\n",
    "#180-200m\n",
    "with open(datapath+'so3_et_track_-190.0m_10-100kmbp_np100_owthr01_'+str(1951)+'-'+str(1956)+'.pickle','rb') as f:\n",
    "        t50_200m=pickle.load(f)\n",
    "with open(datapath+'so3_et_track_-190.0m_10-100kmbp_np100_owthr01_'+str(2091)+'-'+str(2096)+'.pickle','rb') as f:\n",
    "        t90_200m=pickle.load(f)\n",
    "\n",
    "datasets=[t50_0m,t90_0m,t50_25m,t90_25m,t50_95m,t90_95m,t50_200m,t90_200m]"
   ]
  },
  {
   "cell_type": "code",
   "execution_count": null,
   "id": "cdb7f9c4-fe5e-4b4c-850b-ed1ef76a7a0c",
   "metadata": {
    "tags": []
   },
   "outputs": [],
   "source": [
    "#extract cyclonic and anticyclonic eddies - min. lifespan and non-stationary\n",
    "def extract_wtype(data):\n",
    "    temp_len_nn=[track for track in data if len(track['time']) >3 and\n",
    "         et.tracking.get_distance_latlon2m(track['lon'][0],track['lat'][0],track['lon'][-1],track['lat'][-1])/len(track['time'])>1000]\n",
    "    \n",
    "    temp_len_nn_ac=[track for track in temp_len_nn if track['type']=='anticyclonic']\n",
    "    temp_len_nn_cy=[track for track in temp_len_nn if track['type']=='cyclonic']\n",
    "        \n",
    "    return temp_len_nn_cy, temp_len_nn_ac\n",
    "\n",
    "out_accy=Parallel(n_jobs=8,batch_size=1,verbose=10)(delayed(extract_wtype)(indata) for indata in datasets)\n",
    "\n",
    "#save for future use\n",
    "# with open(datapath+'so3_et_tracks_4d_types_processed.pickle','wb') as f:\n",
    "#         pickle.dump(out_accy,f)"
   ]
  },
  {
   "cell_type": "code",
   "execution_count": null,
   "id": "7a57b584-8a4e-4e3d-bc05-1508fea3a762",
   "metadata": {
    "tags": []
   },
   "outputs": [],
   "source": [
    "# dataset order\n",
    "# [ [50s_0m_cy, 50_0m_ac], [90_0m_cy, 90_0m_ac], [50s_25m_cy, etc"
   ]
  },
  {
   "cell_type": "code",
   "execution_count": null,
   "id": "dac0cf37-4adf-49fa-84ec-a1ad49924b4f",
   "metadata": {
    "tags": []
   },
   "outputs": [],
   "source": [
    "#load saved cyclonic and anticyclonic eddies\n",
    "# with open('/work/ab0995/a270166/SO_analysis/eddytools_data/detections/so3_et_tracks_4d_types_processed.pickle','rb') as f:\n",
    "#         out_accy=pickle.load(f)\n",
    "# select the datasets: refer to extract func for order\n",
    "#this can be improved\n",
    "# out_ac=[out_accy[0][1],out_accy[2][1],out_accy[4][1],out_accy[6][1],\n",
    "#           out_accy[1][1],out_accy[3][1],out_accy[5][1],out_accy[7][1]]\n",
    "# out_cy=[out_accy[0][0],out_accy[2][0],out_accy[4][0],out_accy[6][0],\n",
    "#           out_accy[1][0],out_accy[3][0],out_accy[5][0],out_accy[7][0]]"
   ]
  },
  {
   "cell_type": "code",
   "execution_count": null,
   "id": "0afce208-111a-42a0-a362-c58214ab748d",
   "metadata": {
    "tags": []
   },
   "outputs": [],
   "source": [
    "#extract all eddies - min. lifespan and non-stationary\n",
    "def extract(data):\n",
    "    temp_len_nn=[track for track in data if len(track['time']) >3 and\n",
    "         et.tracking.get_distance_latlon2m(track['lon'][0],track['lat'][0],track['lon'][-1],track['lat'][-1])/len(track['time'])>1000]\n",
    "        \n",
    "    return temp_len_nn\n",
    "\n",
    "out=Parallel(n_jobs=8,batch_size=1,verbose=10)(delayed(extract)(indata) for indata in datasets)\n",
    "\n",
    "#save for future use\n",
    "# with open('/work/ab0995/a270166/SO_analysis/eddytools_data/detections/so3_et_tracks_4d_processed.pickle','wb') as f:\n",
    "#         pickle.dump(out,f)"
   ]
  },
  {
   "cell_type": "code",
   "execution_count": null,
   "id": "33eb5f54-5c5b-4f29-9560-b7ef5af2546c",
   "metadata": {
    "tags": []
   },
   "outputs": [],
   "source": [
    "#load saved eddies\n",
    "# with open('/work/ab0995/a270166/SO_analysis/eddytools_data/detections/so3_et_tracks_4d_processed.pickle','rb') as f:\n",
    "#         out=pickle.load(f)"
   ]
  },
  {
   "cell_type": "code",
   "execution_count": null,
   "id": "fc52d04a-04aa-44ec-aefb-b34d755ffd24",
   "metadata": {
    "tags": []
   },
   "outputs": [],
   "source": [
    "out=[out[0],out[2],out[4],out[6],\n",
    "     out[1],out[3],out[5],out[7]]"
   ]
  },
  {
   "cell_type": "code",
   "execution_count": null,
   "id": "0491406d-de8b-46b5-bf5e-4b85c3ea602f",
   "metadata": {
    "tags": []
   },
   "outputs": [],
   "source": [
    "#definitions for extracting data\n",
    "def getmonths(data):\n",
    "    \n",
    "    tracklats=[np.mean(track['lat']) for track in data]\n",
    "    hldata=np.asarray(data)[np.asarray(tracklats)<=-65]\n",
    "\n",
    "    d1=[list(set([dt.datetime(year=int(str(date)[:4]),\n",
    "                      month=int(str(date)[5:7]),\n",
    "                      day=15).month for date in track['time']]))  for track in hldata] \n",
    "    \n",
    "    return np.hstack(d1)"
   ]
  },
  {
   "cell_type": "code",
   "execution_count": null,
   "id": "e2ea649a-fde8-4313-b4f6-2f8d4db2ad8c",
   "metadata": {
    "tags": []
   },
   "outputs": [],
   "source": [
    "#extract data\n",
    "outdatescy=[]\n",
    "outdatesac=[]\n",
    "outdatesal=[]\n",
    "for i in np.arange(len(out_cy)):\n",
    "    outdatescy.append(getmonths(out_cy[i]))\n",
    "    outdatesac.append(getmonths(out_ac[i]))\n",
    "    outdatesal.append(getmonths(out[i]))   "
   ]
  },
  {
   "cell_type": "code",
   "execution_count": null,
   "id": "d8ff8922-f1ee-43e1-b656-a8a3768d928e",
   "metadata": {
    "tags": []
   },
   "outputs": [],
   "source": [
    "#func to get the p value of a z test between the anticyclonic and cyclonic populations\n",
    "#this should be combined with means and other stats\n",
    "def significance(month,depth,adata,tdata):\n",
    "    # select time period (0=1950s or 1=2090s) and depth 0=0,1=25 etc\n",
    "    adata0=adata[0:4]\n",
    "    tdata0=tdata[0:4]\n",
    "    \n",
    "    adata0=adata0[depth]\n",
    "    tdata0=tdata0[depth]\n",
    "\n",
    "    data0monthly=np.asarray(adata0)[np.asarray(adata0)==month]\n",
    "    \n",
    "    tdata0monthly=np.asarray(tdata0)[np.asarray(tdata0)==month]\n",
    "    \n",
    "    return ssp.proportions_ztest(len(data0monthly),len(tdata0monthly),0.5)[1]\n",
    "    "
   ]
  },
  {
   "cell_type": "code",
   "execution_count": null,
   "id": "a607064c-9823-4f6b-85bf-c6dddc4edade",
   "metadata": {
    "tags": []
   },
   "outputs": [],
   "source": [
    "def total(month,depth,adata):\n",
    "    # select time period (0=1950s or 1=2090s) and depth 0=0,1=25 etc\n",
    "    adata0=adata[0:4]    \n",
    "    adata0=adata0[depth]\n",
    "    data0monthly=np.asarray(adata0)[np.asarray(adata0)==month]\n",
    "        \n",
    "    return len(data0monthly)"
   ]
  },
  {
   "cell_type": "code",
   "execution_count": null,
   "id": "689e3966-bf0b-4370-8e44-0f5fcd43df6a",
   "metadata": {
    "tags": []
   },
   "outputs": [],
   "source": [
    "#construct arrays of significance and mean for each variable: 12 months by 4 depths\n",
    "tpop50=[]\n",
    "tpop90=[]\n",
    "apop50=[]\n",
    "apop90=[]\n",
    "cpop50=[]\n",
    "cpop90=[]\n",
    "\n",
    "sig50=[]\n",
    "sig90=[]\n",
    "\n",
    "for dind in [3,2,1,0]:\n",
    "    tpop50temp=[]\n",
    "    tpop90temp=[]\n",
    "    apop50temp=[]\n",
    "    apop90temp=[]\n",
    "    cpop50temp=[]\n",
    "    cpop90temp=[]\n",
    "\n",
    "    sig50temp=[]\n",
    "    sig90temp=[]\n",
    "    \n",
    "    for mind in np.arange(1,13,1):\n",
    "        tpop50temp.append(total(mind,dind,outdatesal[:4]))\n",
    "        tpop90temp.append(total(mind,dind,outdatesal[4:]))\n",
    "        apop50temp.append(total(mind,dind,outdatesac[:4]))\n",
    "        apop90temp.append(total(mind,dind,outdatesac[4:]))\n",
    "        cpop50temp.append(total(mind,dind,outdatescy[:4]))\n",
    "        cpop90temp.append(total(mind,dind,outdatescy[4:]))\n",
    "        sig50temp.append(significance(mind,dind,outdatescy[:4],outdatesal[:4]))\n",
    "        sig90temp.append(significance(mind,dind,outdatescy[4:],outdatesal[4:]))\n",
    "\n",
    "    tpop50.append(tpop50temp)\n",
    "    tpop90.append(tpop90temp)\n",
    "    apop50.append(apop50temp)\n",
    "    apop90.append(apop90temp)\n",
    "    cpop50.append(cpop50temp)\n",
    "    cpop90.append(cpop90temp)\n",
    "\n",
    "    sig50.append(sig50temp)\n",
    "    sig90.append(sig90temp)"
   ]
  },
  {
   "cell_type": "code",
   "execution_count": null,
   "id": "97e36fa6-c223-4d6f-8b15-4fecfa45e02f",
   "metadata": {
    "tags": []
   },
   "outputs": [],
   "source": [
    "tpop50=np.asarray(tpop50)\n",
    "tpop90=np.asarray(tpop90)\n",
    "apop50=np.asarray(apop50)\n",
    "apop90=np.asarray(apop90)\n",
    "cpop50=np.asarray(cpop50)\n",
    "cpop90=np.asarray(cpop90)\n",
    "sig50=np.asarray(sig50)\n",
    "sig90=np.asarray(sig90)"
   ]
  },
  {
   "cell_type": "code",
   "execution_count": null,
   "id": "2b3e7f5f-d80a-4cdb-8d4c-b68b1eb552e3",
   "metadata": {
    "tags": []
   },
   "outputs": [],
   "source": [
    "#masked array for significance\n",
    "sigs=[sig50,sig90]\n",
    "sigs=[np.ma.masked_less(i,0.05) for i in sigs]"
   ]
  },
  {
   "cell_type": "code",
   "execution_count": null,
   "id": "8726d505-0ff2-4269-8df1-af5a53e41030",
   "metadata": {
    "tags": []
   },
   "outputs": [],
   "source": [
    "monstrings=['Jan','Feb','Mar','Apr','May','Jun','Jul','Aug','Sep','Oct','Nov','Dec']\n",
    "depthstrings=['190-200m','95-100m','25-30m','0-5m']\n",
    "labels=['a','b','c','d','e','f','g']"
   ]
  },
  {
   "cell_type": "code",
   "execution_count": null,
   "id": "934beae4-fe2f-4308-b7bb-6e13af6c3d82",
   "metadata": {
    "tags": []
   },
   "outputs": [],
   "source": [
    "# colorbars - remove dark aprts\n",
    "rm = cmo.tools.crop_by_percent(cmo.amp, 10, which='max', N=None)\n",
    "rbm = cmo.tools.crop_by_percent(cmo.balance, 10, which='both', N=None)"
   ]
  },
  {
   "cell_type": "code",
   "execution_count": null,
   "id": "fc517ea6-1d0e-4c7b-bbc2-919ab5d688dc",
   "metadata": {},
   "outputs": [],
   "source": [
    "plt.rc('xtick',labelsize=14)\n",
    "plt.rc('ytick',labelsize=14)\n",
    "plt.rc('axes',labelsize=14)"
   ]
  },
  {
   "cell_type": "code",
   "execution_count": null,
   "id": "ca14f02e-cde3-45f1-acca-207e75578a86",
   "metadata": {
    "tags": []
   },
   "outputs": [],
   "source": [
    "#heatmap attempt 3:\n",
    "#basic squares\n",
    "fig,ax=plt.subplots(4,3,figsize=(16,10),dpi=300,sharex=True, sharey=True,constrained_layout=True)#height_ratios=[1,1,1,1.15])#constrained_layout=True)\n",
    "\n",
    "titlesize=20\n",
    "ax[0,0].set_title('1951-1956',fontsize=titlesize)\n",
    "ax[0,1].set_title('2091-2096',fontsize=titlesize)\n",
    "ax[0,2].set_title('Change',fontsize=titlesize)\n",
    "\n",
    "#column 1\n",
    "#0,0\n",
    "d_00=ax[0,0].pcolormesh(monstrings,depthstrings,tpop50,cmap=rm,vmin=3000,vmax=12000)\n",
    "plt.colorbar(d_00,ax=ax[0,0],orientation='horizontal',extend='both',label='Eddy population')#,ticks=[8000,12000,16000,20000])\n",
    "\n",
    "#0,1\n",
    "d_01=ax[1,0].pcolormesh(monstrings,depthstrings,(cpop50/tpop50)*100,cmap=rbm,vmin=45,vmax=55)\n",
    "plt.colorbar(d_01,ax=ax[1,0],orientation='horizontal',extend='both',label='Cyclone proportion (%)')\n",
    "\n",
    "#1,0\n",
    "d_10=ax[2,0].pcolormesh(monstrings,depthstrings,cpop50,cmap=rm,vmin=1000,vmax=6000)\n",
    "plt.colorbar(d_10,ax=ax[2,0],orientation='horizontal',extend='both',label='Cyclone population')\n",
    "\n",
    "#1,1\n",
    "d_11=ax[3,0].pcolormesh(monstrings,depthstrings,apop50,cmap=rm,vmin=1000,vmax=6000)\n",
    "plt.colorbar(d_11,ax=ax[3,0],orientation='horizontal',extend='both',label='Anticyclone population')\n",
    "\n",
    "#column 2\n",
    "#0,0\n",
    "d_00=ax[0,1].pcolormesh(monstrings,depthstrings,tpop90,cmap=rm,vmin=3000,vmax=12000)\n",
    "plt.colorbar(d_00,ax=ax[0,1],orientation='horizontal',extend='both',label='Eddy population')#,ticks=[8000,12000,16000,20000])\n",
    "\n",
    "#0,1\n",
    "d_01=ax[1,1].pcolormesh(monstrings,depthstrings,(cpop90/tpop90)*100,cmap=rbm,vmin=45,vmax=55)\n",
    "plt.colorbar(d_01,ax=ax[1,1],orientation='horizontal',extend='both',label='Cyclone proportion (%)')\n",
    "\n",
    "#1,0\n",
    "d_10=ax[2,1].pcolormesh(monstrings,depthstrings,cpop90,cmap=rm,vmin=1000,vmax=6000)\n",
    "plt.colorbar(d_10,ax=ax[2,1],orientation='horizontal',extend='both',label='Cyclone population')\n",
    "\n",
    "#1,1\n",
    "d_11=ax[3,1].pcolormesh(monstrings,depthstrings,apop90,cmap=rm,vmin=1000,vmax=6000)\n",
    "plt.colorbar(d_11,ax=ax[3,1],orientation='horizontal',extend='both',label='Anticyclone population')\n",
    "\n",
    "#column 3\n",
    "#0,0\n",
    "d_00=ax[0,2].pcolormesh(monstrings,depthstrings,tpop90-tpop50,cmap=rbm,vmin=-4000,vmax=4000)\n",
    "plt.colorbar(d_00,ax=ax[0,2],orientation='horizontal',extend='both',label='Δ Eddy population')\n",
    "\n",
    "#0,1\n",
    "d_01=ax[1,2].pcolormesh(monstrings,depthstrings,(cpop90/tpop90)*100-(cpop50/tpop50)*100,cmap=rbm,vmin=-5,vmax=5)\n",
    "plt.colorbar(d_01,ax=ax[1,2],orientation='horizontal',extend='both',label='Δ Cyclone proportion (%)')\n",
    "\n",
    "#1,0\n",
    "d_10=ax[2,2].pcolormesh(monstrings,depthstrings,cpop90-cpop50,cmap=rbm,vmin=-2000,vmax=2000)\n",
    "plt.colorbar(d_10,ax=ax[2,2],orientation='horizontal',extend='both',label='Δ Cyclone population')\n",
    "\n",
    "#1,1\n",
    "d_11=ax[3,2].pcolormesh(monstrings,depthstrings,apop90-apop50,cmap=rbm,vmin=-2000,vmax=2000)\n",
    "plt.colorbar(d_11,ax=ax[3,2],orientation='horizontal',extend='both',label='Δ Anticyclone population')\n",
    "\n",
    "#add hatching\n",
    "for i in np.arange(2):\n",
    "    ax[1,i].pcolor(monstrings,depthstrings,sigs[i],hatch='/',alpha=0)\n",
    "\n",
    "#labels\n",
    "for num,axis in enumerate(ax[:,0]):\n",
    "    axis.annotate(labels[num], xy=(-0.2, 1.15),xycoords='axes fraction',horizontalalignment='left', \n",
    "                     verticalalignment='top',fontsize=22,weight='bold')\n",
    "\n",
    "plt.savefig(figpath+'figure_5.png',bbox_inches='tight')"
   ]
  },
  {
   "cell_type": "code",
   "execution_count": null,
   "id": "f7c934ee-167b-4399-873e-fd1f09c8e1d8",
   "metadata": {},
   "outputs": [],
   "source": []
  }
 ],
 "metadata": {
  "kernelspec": {
   "display_name": "1 Python 3 (based on the module python3/2023.01)",
   "language": "python",
   "name": "python3_2023_01"
  },
  "language_info": {
   "codemirror_mode": {
    "name": "ipython",
    "version": 3
   },
   "file_extension": ".py",
   "mimetype": "text/x-python",
   "name": "python",
   "nbconvert_exporter": "python",
   "pygments_lexer": "ipython3",
   "version": "3.10.10"
  }
 },
 "nbformat": 4,
 "nbformat_minor": 5
}
