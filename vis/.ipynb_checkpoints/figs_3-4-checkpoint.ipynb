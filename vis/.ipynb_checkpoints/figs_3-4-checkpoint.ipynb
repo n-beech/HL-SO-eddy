{
 "cells": [
  {
   "cell_type": "code",
   "execution_count": null,
   "id": "153af298-9284-43f8-a826-91d4d5739561",
   "metadata": {
    "tags": []
   },
   "outputs": [],
   "source": [
    "import numpy as np\n",
    "import xarray as xr\n",
    "import matplotlib as mpl\n",
    "import matplotlib.pyplot as plt\n",
    "import matplotlib.colors as colors\n",
    "import sys\n",
    "import tripyview as tpv\n",
    "import eddytools as et\n",
    "import math\n",
    "from cmocean import cm as cmo\n",
    "import matplotlib.path as mpath\n",
    "import cartopy.crs as ccrs"
   ]
  },
  {
   "cell_type": "code",
   "execution_count": null,
   "id": "8388b591-04fe-49cc-86f2-028095430f59",
   "metadata": {
    "tags": []
   },
   "outputs": [],
   "source": [
    "figpath='/PATH/TO/OUTPUT/'\n",
    "datapath='/PATH/TO/DATA/'"
   ]
  },
  {
   "cell_type": "code",
   "execution_count": null,
   "id": "be9146e2-8a57-44f6-abe2-ed61376a554f",
   "metadata": {
    "tags": []
   },
   "outputs": [],
   "source": [
    "#plotting functions"
   ]
  },
  {
   "cell_type": "code",
   "execution_count": null,
   "id": "496ddf08-c89c-4550-acad-870f1aa7ae93",
   "metadata": {
    "tags": []
   },
   "outputs": [],
   "source": [
    "def simple_plot(dpi=300,\n",
    "                ygridlocs=[-80,-75,-70,-65,-60],\n",
    "                figsize=(6,6),\n",
    "                box=[-180,180,-80,-60],\n",
    "                cols=1,\n",
    "                rows=1,\n",
    "               ):\n",
    "    \n",
    "    fig, axes = plt.subplots(\n",
    "                rows,cols,\n",
    "                subplot_kw=dict(projection=ccrs.SouthPolarStereo()),\n",
    "                constrained_layout=True,\n",
    "                figsize=figsize,\n",
    "                dpi=dpi,\n",
    "                # facecolor='lightgrey',\n",
    "            )\n",
    "    if isinstance(axes, np.ndarray):\n",
    "        axesflat = axes.flatten()\n",
    "    else:\n",
    "        axesflat = [axesflat]\n",
    "    for ax in axesflat:\n",
    "        ax.set_extent(box, crs=ccrs.PlateCarree())\n",
    "        theta = np.linspace(0, 2*np.pi, 100)\n",
    "        center, radius = [0.5, 0.505], 0.5\n",
    "        verts = np.vstack([np.sin(theta), np.cos(theta)]).T\n",
    "        circle = mpath.Path(verts * radius + center)\n",
    "\n",
    "        ax.set_boundary(circle, transform=ax.transAxes)\n",
    "        ax.gridlines(crs=ccrs.PlateCarree(), draw_labels=False, linewidth=0.5, \\\n",
    "                xlocs=range(-180,171,30), ylocs=[], \\\n",
    "                color='gray', alpha=0.5, linestyle='--', zorder=10)\n",
    "        # Draw concentric circles (but hide labels) for the parallels of the latitude\n",
    "        ax.gridlines(crs=ccrs.PlateCarree(), draw_labels=False, linewidth=0.5, \\\n",
    "                        xlocs=[], ylocs=ygridlocs, \\\n",
    "                        color='grey', alpha=0.5, linestyle='--', zorder=10)\n",
    "\n",
    "        # ax.coastlines(lw=0.5, resolution=\"110m\", facecolor='k',zorder=101)\n",
    "\n",
    "    return fig, axes"
   ]
  },
  {
   "cell_type": "code",
   "execution_count": null,
   "id": "3a06a0bc-d808-4eef-907e-bb63fa2a44ec",
   "metadata": {
    "tags": []
   },
   "outputs": [],
   "source": [
    "# colormaps. remove dark bits\n",
    "rm = cmo.tools.crop_by_percent(cmo.amp, 20, which='max', N=None)\n",
    "rbm = cmo.tools.crop_by_percent(cmo.balance, 20, which='both', N=None)"
   ]
  },
  {
   "cell_type": "code",
   "execution_count": null,
   "id": "b39e3473-3aaf-4aee-a3b6-e7af7b9e02af",
   "metadata": {
    "tags": []
   },
   "outputs": [],
   "source": [
    "#for land mask\n",
    "mesh=tpv.load_mesh_fesom2('/PATH/TO/MESH/', do_rot='None', focus=0, do_info=False, do_pickle=False,\n",
    "                          do_earea=False, do_narea=False, do_eresol=[False,'mean'], do_nresol=[False,'eresol'])\n"
   ]
  },
  {
   "cell_type": "code",
   "execution_count": null,
   "id": "b42e40d7-9701-48c6-a8cc-1947ebb34389",
   "metadata": {
    "tags": []
   },
   "outputs": [],
   "source": [
    "#data"
   ]
  },
  {
   "cell_type": "code",
   "execution_count": null,
   "id": "260b253c-b24a-4f7c-82ae-24d5dcb81348",
   "metadata": {
    "tags": []
   },
   "outputs": [],
   "source": [
    "#streamfunction from tripyview: https://github.com/FESOM/tripyview\n",
    "streamf50=xr.open_dataset(datapath+'hbstreamf_1951-1956.nc')\n",
    "streamf90=xr.open_dataset(datapath+'hbstreamf_2091-2096.nc')"
   ]
  },
  {
   "cell_type": "code",
   "execution_count": null,
   "id": "09864ad4-1687-46c2-8be9-fddd57e801b7",
   "metadata": {
    "tags": []
   },
   "outputs": [],
   "source": [
    "#surface wind\n",
    "\n",
    "u50files=[]\n",
    "v50files=[]\n",
    "u90files=[]\n",
    "v90files=[]\n",
    "\n",
    "for i in np.arange(6):\n",
    "    u50files.append(datapath+'uas_Amon_AWI-CM-1-1-MR_historical_r1i1p1f1_gn_'+str(1951+i)+'01-'+str(1951+i)+'12.nc')\n",
    "    v50files.append(datapath+'vas_Amon_AWI-CM-1-1-MR_historical_r1i1p1f1_gn_'+str(1951+i)+'01-'+str(1951+i)+'12.nc')\n",
    "\n",
    "    u90files.append(datapath+'uas_Amon_AWI-CM-1-1-MR_ssp370_r1i1p1f1_gn_'+str(2091+i)+'01-'+str(2091+i)+'12.nc')\n",
    "    v90files.append(datapath+'vas_Amon_AWI-CM-1-1-MR_ssp370_r1i1p1f1_gn_'+str(2091+i)+'01-'+str(2091+i)+'12.nc')\n",
    "uw50=xr.open_mfdataset(u50files).mean(dim='time').compute()\n",
    "uw90=xr.open_mfdataset(u90files).mean(dim='time').compute()\n",
    "vw50=xr.open_mfdataset(v50files).mean(dim='time').compute()\n",
    "vw90=xr.open_mfdataset(v90files).mean(dim='time').compute()"
   ]
  },
  {
   "cell_type": "code",
   "execution_count": null,
   "id": "79f32dfb-3307-4e32-b422-485c252bcae8",
   "metadata": {
    "tags": []
   },
   "outputs": [],
   "source": [
    "#mke\n",
    "mkeann50=xr.open_dataset(datapath+'mke_ann_reg_95m_1951-1955.nc')\n",
    "mkeann90=xr.open_dataset(datapath+'mke_ann_reg_95m_2091-2095.nc')"
   ]
  },
  {
   "cell_type": "code",
   "execution_count": null,
   "id": "09fcaa2a-6efb-4fa4-8e2e-369307277b38",
   "metadata": {
    "tags": []
   },
   "outputs": [],
   "source": [
    "#eke\n",
    "ekeann50=xr.open_dataset(datapath+'eke_mean_reg_95m_1951-1955.nc')\n",
    "ekeann90=xr.open_dataset(datapath+'eke_mean_reg_95m_2091-2095.nc')"
   ]
  },
  {
   "cell_type": "code",
   "execution_count": null,
   "id": "0f29f297-5722-4158-a0bf-394b2c2a0cb4",
   "metadata": {
    "tags": []
   },
   "outputs": [],
   "source": [
    "#ice multi-year monthly mean climatology\n",
    "icemons90=xr.open_dataset(datapath+'a_ice_iso_reg_ymonmean_2091-2096.nc')\n",
    "icemons50=xr.open_dataset(datapath+'a_ice_iso_reg_ymonmean_1951-1956.nc')"
   ]
  },
  {
   "cell_type": "code",
   "execution_count": null,
   "id": "81234211-0508-40ad-8821-1e3e3c4039a9",
   "metadata": {
    "tags": []
   },
   "outputs": [],
   "source": [
    "#ice monthly\n",
    "icemons_ann90=xr.open_dataset(datapath+'a_ice_iso_reg_monmean_2091-2096.nc')\n",
    "icemons_ann50=xr.open_dataset(datapath+'a_ice_iso_reg_monmean_1951-1956.nc')"
   ]
  },
  {
   "cell_type": "code",
   "execution_count": null,
   "id": "467e7195-0a3b-4747-976a-646c4be7cb72",
   "metadata": {
    "tags": []
   },
   "outputs": [],
   "source": [
    "def define_grid(gridtype='reg',bounds=[-180,180,-80,90],dx=1,dy=1,periodic=True):\n",
    "    left,right,bottom,top=bounds\n",
    "    #variables we want to keep\n",
    "    global lons_c, lats_c, lons_gl, lats_gl, lons_gr, lats_gr, lats_g, \\\n",
    "    vpointslonl, vpointslatl, vpointslonr, vpointslatr, upointslonl, upointslatl, upointslonr, \\\n",
    "    upointslatr, cpointslon, cpointslat, fpointslonl, fpointslatl, fpointslonr, fpointslatr, \\\n",
    "    dxF, dyF, dxC, dyC, dxG, dyG, dxV, dyU \n",
    "    \n",
    "    if gridtype=='reg':\n",
    "        # the x center and f points on either side\n",
    "        lons_c = np.arange(left+(0.5*dx), right, dx)\n",
    "        lons_gl = np.arange(left, right, dx)\n",
    "        lons_gr = lons_gl+(dx)\n",
    "        \n",
    "        lats_c = np.arange(bottom+(0.5*dy), top, dy)\n",
    "        lats_gl = np.arange(bottom, top, dy)\n",
    "        lats_gr = lats_gl+(dy)\n",
    "        \n",
    "    elif gridtype=='iso':\n",
    "        \n",
    "        # the x center and f points on either side\n",
    "        lons_c = np.arange(left+(0.5*dx), right, dx)\n",
    "        lons_gl = np.arange(left, right, dx)\n",
    "        lons_gr = lons_gl+(dx)\n",
    "        \n",
    "        #the y \n",
    "        lats_g=[bottom]\n",
    "\n",
    "        #we need one extra center lat point in order to differentiate the correct number of v points\n",
    "        while lats_g[-1] < top+(dy*(np.cos(np.radians(top)))):\n",
    "            lats_g.append(lats_g[-1]+dy*(np.cos(np.radians(lats_g[-1]))))\n",
    "\n",
    "        lats_gl=lats_g[:-1]\n",
    "        lats_gr=lats_g[1:]\n",
    "        lats_c=(np.asarray(lats_gl)+np.asarray(lats_gr))/2\n",
    "\n",
    "        lats_g,lats_gl,lats_gr=lats_g[:-1],lats_gl[:-1],lats_gr[:-1]\n",
    "        \n",
    "    else:\n",
    "        print('grid type not prepared with this function')\n",
    "        pass\n",
    "        \n",
    "    #latlon points in 2d\n",
    "    vpointslonl, vpointslatl = np.meshgrid(lons_c,lats_gl)\n",
    "    vpointslonr, vpointslatr = np.meshgrid(lons_c,lats_gr)\n",
    "\n",
    "    upointslonl, upointslatl = np.meshgrid(lons_gl,lats_c)\n",
    "    upointslonr, upointslatr = np.meshgrid(lons_gr,lats_c)\n",
    "\n",
    "    cpointslon, cpointslat = np.meshgrid(lons_c,lats_c)\n",
    "\n",
    "    fpointslonl, fpointslatl = np.meshgrid(lons_gl,lats_gl)\n",
    "    fpointslonr, fpointslatr = np.meshgrid(lons_gr,lats_gr)\n",
    "    \n",
    "    #distances\n",
    "    dxC = et.tracking.get_distance_latlon2m(cpointslon[:-1,1:],cpointslat[:-1,1:], \n",
    "                                            cpointslon[:-1,:-1],cpointslat[:-1,:-1])\n",
    "    \n",
    "    #we use the left lat point because we lose the top row \n",
    "    dxV = et.tracking.get_distance_latlon2m(vpointslonl[:,1:],vpointslatl[:,1:], \n",
    "                                            vpointslonl[:,:-1],vpointslatl[:,:-1])\n",
    "    \n",
    "    #for dxC and dxV we need to manually add the periodic distance\n",
    "    if periodic:\n",
    "        endcolumn=et.tracking.get_distance_latlon2m(cpointslon[:-1,0],cpointslat[:-1,0],\n",
    "                                                    cpointslon[:-1,-1],cpointslat[:-1,-1])\n",
    "        dxC = np.append(dxC, endcolumn.reshape((endcolumn.shape[0],1)),axis=1)\n",
    "        endcolumn=et.tracking.get_distance_latlon2m(vpointslonl[:,0],vpointslatl[:,0],\n",
    "                                                    vpointslonl[:,-1],vpointslatl[:,-1])\n",
    "        dxV = np.append(dxV, endcolumn.reshape((endcolumn.shape[0],1)),axis=1)\n",
    "\n",
    "    #for dyC and dyU, we lose the top row that we added above\n",
    "    #*** to do: change to lose the bottom row, so that this works better in the northern hemisphere\n",
    "    #the bottom row can be on land over antarctica\n",
    "    dyC = et.tracking.get_distance_latlon2m(cpointslon[1:,:],cpointslat[1:,:],\n",
    "                                            cpointslon[:-1,:],cpointslat[:-1,:])\n",
    "    dyU = et.tracking.get_distance_latlon2m(upointslonl[1:,:],upointslatl[1:,:],\n",
    "                                            upointslonl[:-1,:],upointslatl[:-1,:])\n",
    "\n",
    "    #dxG and dyG\n",
    "    dxG = et.tracking.get_distance_latlon2m(fpointslonr,fpointslatl,fpointslonl,fpointslatl)\n",
    "    dyG = et.tracking.get_distance_latlon2m(fpointslonl,fpointslatr,fpointslonl,fpointslatl)\n",
    "\n",
    "    #dxF and dyF. for dxF we have to manually remove the top layer\n",
    "    dxF = et.tracking.get_distance_latlon2m(upointslonr,upointslatl,upointslonl,upointslatl)\n",
    "    dxF = dxF[:-1,:]\n",
    "    dyF = et.tracking.get_distance_latlon2m(vpointslonl,vpointslatr,vpointslonl,vpointslatl)\n",
    "    \n",
    "    lats_c=lats_c[:-1]\n",
    "    cpointslat=cpointslat[:-1,:]\n",
    "    upointslonl=upointslonl[:-1,:]\n",
    "    upointslatl=upointslatl[:-1,:]\n",
    "    upointslonr=upointslonr[:-1,:]\n",
    "    upointslatr=upointslatr[:-1,:]\n",
    "    \n",
    "define_grid('iso',[-180,180,-80,-40],dx=0.05,dy=0.05, periodic=True)\n",
    "\n",
    "areas=dyU*dxV"
   ]
  },
  {
   "cell_type": "code",
   "execution_count": null,
   "id": "623faa93-a76e-486f-a52c-57112a4d16a9",
   "metadata": {
    "tags": []
   },
   "outputs": [],
   "source": [
    "#weight ice concentration by cell area\n",
    "iceawm50=(icemons_ann50.a_ice[:,:,:1284]*areas.T.reshape(1,*areas.T.shape)[:,:,:1284]).sum(dim=['lat','lon'])/np.sum(areas.T.reshape(1,*areas.T.shape)[:,:,:1284])\n",
    "iceawm90=(icemons_ann90.a_ice[:,:,:1284]*areas.T.reshape(1,*areas.T.shape)[:,:,:1284]).sum(dim=['lat','lon'])/np.sum(areas.T.reshape(1,*areas.T.shape)[:,:,:1284])"
   ]
  },
  {
   "cell_type": "code",
   "execution_count": null,
   "id": "b5fd8b10-3368-44d8-9ed4-b1b3bf0303b0",
   "metadata": {
    "tags": []
   },
   "outputs": [],
   "source": [
    "#calculate range and mean for each month\n",
    "icemins50=iceawm50.groupby('time.month').min(dim='time')\n",
    "icemins90=iceawm90.groupby('time.month').min(dim='time')\n",
    "icemaxs50=iceawm50.groupby('time.month').max(dim='time')\n",
    "icemaxs90=iceawm90.groupby('time.month').max(dim='time')\n",
    "icemean50=iceawm50.groupby('time.month').mean(dim='time')\n",
    "icemean90=iceawm90.groupby('time.month').mean(dim='time')"
   ]
  },
  {
   "cell_type": "code",
   "execution_count": null,
   "id": "f2a8b1fa-f59d-4da3-8c62-e4d1bf17af9c",
   "metadata": {
    "tags": []
   },
   "outputs": [],
   "source": [
    "#plotting"
   ]
  },
  {
   "cell_type": "code",
   "execution_count": null,
   "id": "6fac455e-dd2b-4666-8e62-07592c279f00",
   "metadata": {
    "tags": []
   },
   "outputs": [],
   "source": [
    "#contourlabel format\n",
    "def fmtx(x):\n",
    "    s = f\"{x:.1f}\"\n",
    "    if s.endswith(\"0\"):\n",
    "        s = f\"{x:.0f}\"\n",
    "    return rf\"{s} \\Sv\" if plt.rcParams[\"text.usetex\"] else f\"{s} Sv\""
   ]
  },
  {
   "cell_type": "code",
   "execution_count": null,
   "id": "aae2a815-00a6-47ec-8e6c-8f922707234a",
   "metadata": {
    "tags": []
   },
   "outputs": [],
   "source": [
    "labels=['a','b','c','d','e','f','g']\n",
    "monstrings=['Jan','Feb','Mar','Apr','May','Jun','Jul','Aug','Sep','Oct','Nov','Dec']"
   ]
  },
  {
   "cell_type": "code",
   "execution_count": null,
   "id": "0d2ac87a-a168-4577-aac9-2a9431925f7c",
   "metadata": {
    "tags": []
   },
   "outputs": [],
   "source": [
    "#figure 3\n",
    "fig,axes=simple_plot(dpi=500,\n",
    "                ygridlocs=[-80,-75,-70,-65,-60],\n",
    "                figsize=(12,20),\n",
    "                box=[-180,180,-80,-59],\n",
    "                rows=4,\n",
    "                cols=3)\n",
    "\n",
    "#titles on first row\n",
    "titlesize=20\n",
    "axes[0,0].set_title('1951-1956',fontsize=titlesize)\n",
    "axes[0,1].set_title('2091-2096',fontsize=titlesize)\n",
    "axes[0,2].set_title('Change',fontsize=titlesize)\n",
    "\n",
    "plt.rc('xtick',labelsize=14)\n",
    "plt.rc('ytick',labelsize=14)\n",
    "plt.rc('axes',labelsize=14)\n",
    "\n",
    "#land mask\n",
    "for ax in axes.flatten():\n",
    "    ax.add_geometries(mesh.lsmask_p, crs=ccrs.PlateCarree(), \n",
    "                              facecolor=[0.6,0.6,0.6], edgecolor='none' ,linewidth=1,zorder=100)\n",
    "for num,ax in enumerate(axes[:,0]):\n",
    "    ax.annotate(labels[num], xy=(0.05, 0.9),xycoords='axes fraction',horizontalalignment='left', \n",
    "                     verticalalignment='bottom',fontsize=22,weight='bold')\n",
    "\n",
    "#streamfunction\n",
    "cax_0=axes[0,0].contourf(streamf50.nlon,streamf50.nlat,streamf50.hbstreamf,levels=np.linspace(120,210,10),cmap=rm,extend='both',transform=ccrs.PlateCarree())\n",
    "axes[0,1].contourf(streamf90.nlon,streamf90.nlat,streamf90.hbstreamf,levels=np.linspace(120,210,10),cmap=rm,extend='both',transform=ccrs.PlateCarree())\n",
    "dax_0=axes[0,2].contourf(streamf50.nlon,streamf50.nlat,streamf90.hbstreamf-streamf50.hbstreamf,levels=np.linspace(-10,10,9),cmap=rbm,extend='both',transform=ccrs.PlateCarree())\n",
    "\n",
    "#streamfunc contours\n",
    "conax50_00=axes[0,0].contour(streamf50.nlon,streamf50.nlat,streamf50.hbstreamf,levels=np.linspace(120,210,10),colors='k',alpha=1,linewidths=0.7,transform=ccrs.PlateCarree())\n",
    "conax90_01=axes[0,1].contour(streamf90.nlon,streamf90.nlat,streamf90.hbstreamf,levels=np.linspace(120,210,10),colors='k',alpha=1,linewidths=0.7,linestyles='--',transform=ccrs.PlateCarree())\n",
    "conax50_02=axes[0,2].contour(streamf50.nlon,streamf50.nlat,streamf50.hbstreamf,levels=np.linspace(120,210,10),colors='k',alpha=1,linewidths=0.7,transform=ccrs.PlateCarree())\n",
    "conax90_02=axes[0,2].contour(streamf90.nlon,streamf90.nlat,streamf90.hbstreamf,levels=np.linspace(120,210,10),colors='k',alpha=1,linewidths=0.7,linestyles='--',transform=ccrs.PlateCarree())\n",
    "\n",
    "#row 0 colorbars\n",
    "plt.colorbar(cax_0,ax=axes[0,:2],orientation='horizontal',label='Horizontal barotropic streamfunction (Sv)')\n",
    "plt.colorbar(dax_0,ax=axes[0,2],orientation='horizontal',label='Δ Horizontal barotropic streamfunction (Sv)',ticks=[-10,-5,0,5,10])\n",
    "\n",
    "#eke \n",
    "cax_1=axes[1,0].pcolormesh(ekeann50.lon,ekeann50.lat,np.log10(ekeann50.eke[0].T*10000),vmin=-1,vmax=1.5,cmap=rm,transform=ccrs.PlateCarree())\n",
    "axes[1,1].pcolormesh(ekeann90.lon,ekeann90.lat,np.log10(ekeann90.eke[0].T*10000),vmin=-1,vmax=1.5,cmap=rm,transform=ccrs.PlateCarree())\n",
    "dax_1=axes[1,2].pcolormesh(ekeann50.lon,ekeann50.lat,ekeann90.eke[0].T*10000-ekeann50.eke[0].T*10000,cmap=rbm,transform=ccrs.PlateCarree(),norm=colors.SymLogNorm(linthresh=0.1, linscale=0.01,vmin=-30, vmax=30, base=10),)\n",
    "\n",
    "#row 1 colorbars\n",
    "cbar=plt.colorbar(cax_1,ax=axes[1,:2],orientation='horizontal',label='Eddy kinetic energy ($cm^2$/$s^2$)',extend='max')\n",
    "cbar.set_ticks(ticks=[-1,0,1,np.log10(30)],labels=['0.1','1','10','30'])\n",
    "dbar=plt.colorbar(dax_1,ax=axes[1,2],orientation='horizontal',label='Δ Eddy kinetic energy ($cm^2$/$s^2$)',extend='both')\n",
    "dbar.set_ticks(ticks=[-30,-10,-1,0,1,10,30],labels=['-30','-10','1','0','1','10','30'])\n",
    "\n",
    "#MKE\n",
    "cax_2=axes[2,0].pcolormesh(mkeann50.lon,mkeann50.lat,np.log10(mkeann50.mke[0].T*10000),vmin=-1,vmax=np.log10(50),cmap=rm,transform=ccrs.PlateCarree())\n",
    "axes[2,1].pcolormesh(mkeann90.lon,mkeann90.lat,np.log10(mkeann90.mke[0].T*10000),vmin=-1,vmax=np.log10(50),cmap=rm,transform=ccrs.PlateCarree())\n",
    "dax_2=axes[2,2].pcolormesh(mkeann50.lon,mkeann50.lat,(mkeann90.mke[0].T*10000)-(mkeann50.mke[0].T*10000),cmap=rbm,transform=ccrs.PlateCarree(),norm=colors.SymLogNorm(linthresh=0.1, linscale=0.01,vmin=-50, vmax=50, base=10),)\n",
    "\n",
    "#row 2 colorbars\n",
    "cbar2=plt.colorbar(cax_2,ax=axes[2,:2],orientation='horizontal',label='Mean kinetic energy ($cm^2$/$s^2$)',extend='max')\n",
    "dbar2=plt.colorbar(dax_2,ax=axes[2,2],orientation='horizontal',label='Δ Mean kinetic energy ($cm^2$/$s^2$)',extend='both')\n",
    "cbar2.set_ticks(ticks=[-1,0,1,np.log10(50)],labels=['0.1','1','10','50'])\n",
    "dbar2.set_ticks(ticks=[-50,-10,-1,0,1,10,50],labels=['-50','-10','1','0','1','10','50'])\n",
    "\n",
    "#Zonal winds\n",
    "cax_3=axes[3,0].contourf(uw50.lon,uw50.lat,uw50.uas,levels=np.linspace(-10,10,41),cmap=rbm,extend='both',transform=ccrs.PlateCarree())\n",
    "axes[3,1].contourf(uw90.lon,uw90.lat,uw90.uas,levels=np.linspace(-10,10,41),cmap=rbm,extend='both',transform=ccrs.PlateCarree())\n",
    "dax_3=axes[3,2].contourf(uw50.lon,uw50.lat,uw90.uas-uw50.uas,levels=np.linspace(-3,3,41),cmap=rbm,extend='both',transform=ccrs.PlateCarree())\n",
    "\n",
    "#row 3 colorbars\n",
    "plt.colorbar(cax_3,ax=axes[3,:2],orientation='horizontal',label='Zonal surface wind speed (m/s Eastward)')\n",
    "plt.colorbar(dax_3,ax=axes[3,2],orientation='horizontal',label='Δ Zonal surface wind speed (m/s Eastward)',ticks=[-3,-1.5,0,1.5,3])\n",
    "\n",
    "plt.savefig(figpath+'figure_3.png',bbox_inches='tight')"
   ]
  },
  {
   "cell_type": "code",
   "execution_count": null,
   "id": "ded0c641-38d8-4a7c-b57d-78b18cb4ae40",
   "metadata": {
    "tags": []
   },
   "outputs": [],
   "source": [
    "#figure 4\n",
    "fig,axes=simple_plot(dpi=300,\n",
    "                ygridlocs=[-80,-75,-70,-65,-60],\n",
    "                figsize=(12,15),\n",
    "                box=[-180,180,-80,-59],\n",
    "                rows=3,\n",
    "                cols=3)\n",
    "\n",
    "#titles on first row\n",
    "titlesize=20\n",
    "axes[0,0].set_title('1951-1956',fontsize=titlesize)\n",
    "axes[0,1].set_title('2091-2096',fontsize=titlesize)\n",
    "axes[0,2].set_title('Change',fontsize=titlesize)\n",
    "\n",
    "plt.rc('xtick',labelsize=14)\n",
    "plt.rc('ytick',labelsize=14)\n",
    "plt.rc('axes',labelsize=14)\n",
    "\n",
    "#land mask\n",
    "for ax in axes.flatten():\n",
    "    ax.add_geometries(mesh.lsmask_p, crs=ccrs.PlateCarree(), \n",
    "                              facecolor=[0.6,0.6,0.6], edgecolor='none' ,linewidth=1,zorder=100)\n",
    "for num,ax in enumerate(axes[:,0]):\n",
    "    ax.annotate(labels[num], xy=(0.05, 0.9),xycoords='axes fraction',horizontalalignment='left', \n",
    "                     verticalalignment='bottom',fontsize=22,weight='bold')\n",
    "\n",
    "# September ice concentration\n",
    "cax_0=axes[0,0].contourf(icemons50.lon,icemons50.lat,icemons50.a_ice[8].T*100,levels=np.linspace(0,100,21),cmap=rm,transform=ccrs.PlateCarree())\n",
    "axes[0,1].contourf(icemons90.lon,icemons90.lat,icemons90.a_ice[8].T*100,levels=np.linspace(0,100,21),cmap=rm,transform=ccrs.PlateCarree())\n",
    "dax_0=axes[0,2].contourf(icemons50.lon,icemons50.lat,icemons90.a_ice[8].T*100-icemons50.a_ice[8].T*100,levels=np.linspace(-100,100,21),cmap=rbm,transform=ccrs.PlateCarree())\n",
    "\n",
    "# row 0 colorbars\n",
    "plt.colorbar(cax_0,ax=axes[0,:2],orientation='horizontal',label='September sea ice concentration (%)',ticks=[0,25,50,75,100])\n",
    "plt.colorbar(dax_0,ax=axes[0,2],orientation='horizontal',label='Δ September sea ice concentration (%)',ticks=[-100,-50,0,50,100])\n",
    "\n",
    "# March ice concentration\n",
    "cax_1=axes[1,0].contourf(icemons50.lon,icemons50.lat,icemons50.a_ice[2].T*100,levels=np.linspace(0,100,21),cmap=rm,transform=ccrs.PlateCarree())\n",
    "axes[1,1].contourf(icemons90.lon,icemons90.lat,icemons90.a_ice[2].T*100,levels=np.linspace(0,100,21),cmap=rm,transform=ccrs.PlateCarree())\n",
    "dax_1=axes[1,2].contourf(icemons50.lon,icemons50.lat,icemons90.a_ice[2].T*100-icemons50.a_ice[2].T*100,levels=np.linspace(-100,100,21),cmap=rbm,transform=ccrs.PlateCarree())\n",
    "\n",
    "# row 1 colorbars\n",
    "plt.colorbar(cax_1,ax=axes[1,:2],orientation='horizontal',label='March sea ice concentration (%)',ticks=[0,25,50,75,100])\n",
    "plt.colorbar(dax_1,ax=axes[1,2],orientation='horizontal',label='Δ March sea ice concentration (%)',ticks=[-100,-50,0,50,100])\n",
    "\n",
    "#Sea ice monthly\n",
    "newax = plt.subplot2grid(shape=(9,3), loc=(7, 0), rowspan=2, colspan=3,)\n",
    "dice0=newax.plot(monstrings,icemean50*100,color=mpl.cm.get_cmap(cmo.balance)(0.2))\n",
    "dice0f=newax.fill_between(monstrings,icemins50*100,icemaxs50*100,color=mpl.cm.get_cmap(cmo.balance)(0.2),alpha=0.5)#,label='1951-1956')\n",
    "\n",
    "dice1=newax.plot(monstrings,icemean90*100,color=mpl.cm.get_cmap(cmo.balance)(0.8))\n",
    "dice1f=newax.fill_between(monstrings,icemins90*100,icemaxs90*100,color=mpl.cm.get_cmap(cmo.balance)(0.8),alpha=0.5)#,label='2091-2096')\n",
    "\n",
    "newax.set_ylim(0,60)\n",
    "newax.set_xlim(0,11)\n",
    "newax.grid(axis='y')\n",
    "newax.set_ylabel('Sea ice concentration\\n south of 60$^\\circ$S (%)')\n",
    "newax.set_xlabel('Month')\n",
    "\n",
    "legendfill0 = newax.fill([-3,-2], [0,1],linewidth=0, color=mpl.cm.get_cmap(cmo.balance)(0.2),alpha=0.5,label='1951-1956')\n",
    "legendfill1 = newax.fill([-3,-2], [0,1],linewidth=0, color=mpl.cm.get_cmap(cmo.balance)(0.8),alpha=0.5,label='2091-2096')\n",
    "\n",
    "newax.legend(loc='upper left',fontsize=16)\n",
    "newax.legend(handles=[(legendfill0[0],dice0[0]),(legendfill1[0],dice1[0])],labels=['1951-1956','2091-2096'],loc='upper left',fontsize=16)\n",
    "\n",
    "newax.annotate('c', xy=(-0.06, 1),xycoords='axes fraction',horizontalalignment='left', \n",
    "                     verticalalignment='bottom',fontsize=22,weight='bold')\n",
    "\n",
    "plt.savefig(figpath+'figure_4.png',bbox_inches='tight')"
   ]
  }
 ],
 "metadata": {
  "kernelspec": {
   "display_name": "0 Python 3 (based on the module python3/unstable",
   "language": "python",
   "name": "python3_unstable"
  },
  "language_info": {
   "codemirror_mode": {
    "name": "ipython",
    "version": 3
   },
   "file_extension": ".py",
   "mimetype": "text/x-python",
   "name": "python",
   "nbconvert_exporter": "python",
   "pygments_lexer": "ipython3",
   "version": "3.10.10"
  }
 },
 "nbformat": 4,
 "nbformat_minor": 5
}
