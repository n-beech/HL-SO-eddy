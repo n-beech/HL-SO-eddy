{
 "cells": [
  {
   "cell_type": "code",
   "execution_count": 2,
   "id": "924161e7-c28f-46a2-a2bd-44fc1357c741",
   "metadata": {
    "tags": []
   },
   "outputs": [],
   "source": [
    "import numpy as np\n",
    "import xarray as xr\n",
    "import pickle\n",
    "import matplotlib.pyplot as plt\n",
    "import sys\n",
    "# import eddytools as et\n",
    "import datetime as dt\n",
    "from joblib import Parallel, delayed\n",
    "from scipy import stats as st\n",
    "import cmocean.cm as cmo"
   ]
  },
  {
   "cell_type": "code",
   "execution_count": null,
   "id": "6ba3c121-53d7-4e91-82ed-5c162137c715",
   "metadata": {
    "tags": []
   },
   "outputs": [],
   "source": [
    "datapath='/PATH/TO/DATA/'\n",
    "figpath='/PATH/TO/OUTPUT/'"
   ]
  },
  {
   "cell_type": "code",
   "execution_count": null,
   "id": "feb80693-015f-4393-bbb5-53fc960b892b",
   "metadata": {
    "tags": []
   },
   "outputs": [],
   "source": [
    "#saved from fig6 notebook\n",
    "with open(datapath+'so3_et_tracks_4d_types_processed.pickle','rb') as f:\n",
    "        out_accy=pickle.load(f)"
   ]
  },
  {
   "cell_type": "code",
   "execution_count": null,
   "id": "9f3e1552-a9d5-4823-8f00-05871210c1bc",
   "metadata": {
    "tags": []
   },
   "outputs": [],
   "source": [
    "# select the datasets: refer to extract func for order (fig_5)\n",
    "#this can be improved\n",
    "out_ac=[out_accy[0][1],out_accy[2][1],out_accy[4][1],out_accy[6][1],\n",
    "          out_accy[1][1],out_accy[3][1],out_accy[5][1],out_accy[7][1]]\n",
    "out_cy=[out_accy[0][0],out_accy[2][0],out_accy[4][0],out_accy[6][0],\n",
    "          out_accy[1][0],out_accy[3][0],out_accy[5][0],out_accy[7][0]]"
   ]
  },
  {
   "cell_type": "code",
   "execution_count": null,
   "id": "c7c677d3-c8ce-4e74-ac7b-242453c0f4d9",
   "metadata": {
    "tags": []
   },
   "outputs": [],
   "source": [
    "#definitions for extracting data\n",
    "def getmonths(data):    \n",
    "    dates=[dt.datetime(year=int(str(track['time'][int(len(track['time'])/2)])[:4]),\n",
    "                      month=int(str(track['time'][int(len(track['time'])/2)])[5:7]),\n",
    "                      day=15).month for track in data]\n",
    "    return np.asarray(dates)\n",
    "\n",
    "def getsizes(data):    \n",
    "    sizes=[np.mean(track['area']) for track in data]\n",
    "    return np.asarray(sizes)\n",
    "\n",
    "def getamps(data):    \n",
    "    amps=[np.mean(track['amp']) for track in data]\n",
    "    return np.asarray(amps)"
   ]
  },
  {
   "cell_type": "code",
   "execution_count": null,
   "id": "48a1fd23-297f-4152-a819-34ac27ca38c7",
   "metadata": {
    "tags": []
   },
   "outputs": [],
   "source": [
    "#extract data\n",
    "outdatescy=[]\n",
    "outdatesac=[]\n",
    "outareascy=[]\n",
    "outareasac=[]\n",
    "outampscy = []\n",
    "outampsac =[]\n",
    "for i in np.arange(len(out_cy)):\n",
    "    outdatescy.append(getmonths(out_cy[i]))\n",
    "    outdatesac.append(getmonths(out_ac[i]))\n",
    "    \n",
    "    outareascy.append(getsizes(out_cy[i]))\n",
    "    outareasac.append(getsizes(out_ac[i]))\n",
    "    \n",
    "    outampscy.append(getamps(out_cy[i]))\n",
    "    outampsac.append(getamps(out_ac[i]))"
   ]
  },
  {
   "cell_type": "code",
   "execution_count": null,
   "id": "030368b3-354e-419f-865c-3c6b947d14cd",
   "metadata": {
    "tags": []
   },
   "outputs": [],
   "source": [
    "#func to get the p value of a t test between the 1951-1956 and 2091-2096 mean\n",
    "#this should be combined with means and other stats\n",
    "def significance(month,depth,ddata,tdata):\n",
    "    # select time period (0=1950s or 1=2090s) and depth 0=0,1=25 etc\n",
    "    ddata0=ddata[0:4]\n",
    "    ddata1=ddata[4:]\n",
    "    tdata0=tdata[0:4]\n",
    "    tdata1=tdata[4:]\n",
    "    \n",
    "    ddata0=ddata0[depth]\n",
    "    ddata1=ddata1[depth]\n",
    "    tdata0=tdata0[depth]\n",
    "    tdata1=tdata1[depth]\n",
    "\n",
    "    data0monthly=np.asarray(ddata0)[np.asarray(tdata0)==month]\n",
    "    data1monthly=np.asarray(ddata1)[np.asarray(tdata1)==month]\n",
    "    \n",
    "    return st.ttest_ind(data0monthly,data1monthly,equal_var=False)[1]\n",
    "    "
   ]
  },
  {
   "cell_type": "code",
   "execution_count": null,
   "id": "7af022f0-f040-4e47-b521-f379e1d1cbe3",
   "metadata": {
    "tags": []
   },
   "outputs": [],
   "source": [
    "#funcs for mean\n",
    "def mean50(month,depth,ddata,tdata):\n",
    "    # select time period (0=1950s ) and depth 0=0,1=25 etc\n",
    "    ddata0=ddata[0:4]\n",
    "    tdata0=tdata[0:4]\n",
    "    \n",
    "    ddata0=ddata0[depth]\n",
    "    tdata0=tdata0[depth]\n",
    "\n",
    "    data0monthly=np.asarray(ddata0)[np.asarray(tdata0)==month]\n",
    "    \n",
    "    return np.nanmean(data0monthly)\n",
    "\n",
    "def mean90(month,depth,ddata,tdata):\n",
    "    # select time period (0=1950s ) and depth 0=0,1=25 etc\n",
    "    ddata1=ddata[4:]\n",
    "    tdata1=tdata[4:]\n",
    "    \n",
    "    ddata1=ddata1[depth]\n",
    "    tdata1=tdata1[depth]\n",
    "\n",
    "    data1monthly=np.asarray(ddata1)[np.asarray(tdata1)==month]\n",
    "    \n",
    "    return np.nanmean(data1monthly)"
   ]
  },
  {
   "cell_type": "code",
   "execution_count": null,
   "id": "1f874e08-b7c9-4ae3-ad44-d795919c592c",
   "metadata": {
    "tags": []
   },
   "outputs": [],
   "source": [
    "#construct arrays of significance and mean for each variable: 12 months by 4 depths\n",
    "areasigac=[]\n",
    "areasigcy=[]\n",
    "amp_sigac=[]\n",
    "amp_sigcy=[]\n",
    "\n",
    "areamean90ac=[]\n",
    "areamean90cy=[]\n",
    "amp_mean90ac=[]\n",
    "amp_mean90cy=[]\n",
    "\n",
    "areamean50ac=[]\n",
    "areamean50cy=[]\n",
    "amp_mean50ac=[]\n",
    "amp_mean50cy=[]\n",
    "\n",
    "for dind in [3,2,1,0]:\n",
    "    tempsig_arac=[]\n",
    "    tempsig_arcy=[]\n",
    "    tempsig_amac=[]\n",
    "    tempsig_amcy=[]\n",
    "    \n",
    "    tempmean50_arac=[]\n",
    "    tempmean50_arcy=[]\n",
    "    tempmean50_amac=[]\n",
    "    tempmean50_amcy=[]\n",
    "\n",
    "    tempmean90_arac=[]\n",
    "    tempmean90_arcy=[]\n",
    "    tempmean90_amac=[]\n",
    "    tempmean90_amcy=[]\n",
    "    for mind in np.arange(1,13,1):\n",
    "        tempsig_arac.append(significance(mind,dind,outareasac,outdatesac))\n",
    "        tempsig_arcy.append(significance(mind,dind,outareascy,outdatescy))\n",
    "        tempsig_amac.append(significance(mind,dind,outampsac,outdatesac))\n",
    "        tempsig_amcy.append(significance(mind,dind,outampscy,outdatescy))\n",
    "        \n",
    "        tempmean50_arac.append(mean50(mind,dind,outareasac,outdatesac))\n",
    "        tempmean50_arcy.append(mean50(mind,dind,outareascy,outdatescy))\n",
    "        tempmean50_amac.append(mean50(mind,dind,outampsac,outdatesac))\n",
    "        tempmean50_amcy.append(mean50(mind,dind,outampscy,outdatescy))\n",
    "        \n",
    "        tempmean90_arac.append(mean90(mind,dind,outareasac,outdatesac))\n",
    "        tempmean90_arcy.append(mean90(mind,dind,outareascy,outdatescy))\n",
    "        tempmean90_amac.append(mean90(mind,dind,outampsac,outdatesac))\n",
    "        tempmean90_amcy.append(mean90(mind,dind,outampscy,outdatescy))\n",
    "    \n",
    "    areasigac.append(tempsig_arac)\n",
    "    areasigcy.append(tempsig_arcy)\n",
    "    amp_sigac.append(tempsig_amac)\n",
    "    amp_sigcy.append(tempsig_amcy)\n",
    "    \n",
    "    areamean50ac.append(tempmean50_arac)\n",
    "    areamean50cy.append(tempmean50_arcy)\n",
    "    amp_mean50ac.append(tempmean50_amac)\n",
    "    amp_mean50cy.append(tempmean50_amcy)\n",
    "    \n",
    "    areamean90ac.append(tempmean90_arac)\n",
    "    areamean90cy.append(tempmean90_arcy)\n",
    "    amp_mean90ac.append(tempmean90_amac)\n",
    "    amp_mean90cy.append(tempmean90_amcy)"
   ]
  },
  {
   "cell_type": "code",
   "execution_count": null,
   "id": "93cd86c4-44a4-4b12-9a93-16a703945ed8",
   "metadata": {
    "tags": []
   },
   "outputs": [],
   "source": [
    "areasigac=np.asarray(areasigac)\n",
    "areasigcy=np.asarray(areasigcy)\n",
    "amp_sigac=np.asarray(amp_sigac)\n",
    "amp_sigcy=np.asarray(amp_sigcy)\n",
    "\n",
    "areamean50ac=np.asarray(areamean50ac)\n",
    "areamean50cy=np.asarray(areamean50cy)\n",
    "amp_mean50ac=np.asarray(amp_mean50ac)\n",
    "amp_mean50cy=np.asarray(amp_mean50cy)\n",
    "\n",
    "areamean90ac=np.asarray(areamean90ac)\n",
    "areamean90cy=np.asarray(areamean90cy)\n",
    "amp_mean90ac=np.asarray(amp_mean90ac)\n",
    "amp_mean90cy=np.asarray(amp_mean90cy)"
   ]
  },
  {
   "cell_type": "code",
   "execution_count": null,
   "id": "054b3229-1e8e-4521-b6ea-0053bb329a66",
   "metadata": {
    "tags": []
   },
   "outputs": [],
   "source": [
    "# plot"
   ]
  },
  {
   "cell_type": "code",
   "execution_count": null,
   "id": "0e20b4bb-7035-42e2-9e61-5d0ec3ccf2a0",
   "metadata": {
    "tags": []
   },
   "outputs": [],
   "source": [
    "#significance masks\n",
    "sigs=[areasigcy,areasigac,amp_sigcy,amp_sigac]\n",
    "sigs=[np.ma.masked_less(i,0.05)for i in sigs]"
   ]
  },
  {
   "cell_type": "code",
   "execution_count": null,
   "id": "e67664ab-593b-4d7c-84a9-a692956947a0",
   "metadata": {
    "tags": []
   },
   "outputs": [],
   "source": [
    "monstrings=['Jan','Feb','Mar','Apr','May','Jun','Jul','Aug','Sep','Oct','Nov','Dec']\n",
    "depthstrings=['190-200m','95-100m','25-30m','0-5m']\n",
    "labels=['a','b','c','d','e','f','g']"
   ]
  },
  {
   "cell_type": "code",
   "execution_count": null,
   "id": "86ffed65-b6d2-4856-ab1a-117effc9d789",
   "metadata": {
    "tags": []
   },
   "outputs": [],
   "source": [
    "# colormaps - dark parts removed\n",
    "rm = cmo.tools.crop_by_percent(cmo.amp, 10, which='max', N=None)\n",
    "rbm = cmo.tools.crop_by_percent(cmo.balance, 10, which='both', N=None)"
   ]
  },
  {
   "cell_type": "code",
   "execution_count": null,
   "id": "7ba76822-c165-4011-8ff7-b6689b1f550d",
   "metadata": {},
   "outputs": [],
   "source": [
    "plt.rc('xtick',labelsize=14)\n",
    "plt.rc('ytick',labelsize=14)\n",
    "plt.rc('axes',labelsize=14)"
   ]
  },
  {
   "cell_type": "code",
   "execution_count": null,
   "id": "54ac6bea-b2b0-4f9b-ba80-3f922ecfd482",
   "metadata": {
    "tags": []
   },
   "outputs": [],
   "source": [
    "#figure 6\n",
    "fig,ax=plt.subplots(4,3,figsize=(16,10),dpi=300,sharex=True, sharey=True,constrained_layout=True)#height_ratios=[1,1,1,1.15])#constrained_layout=True)\n",
    "\n",
    "titlesize=20\n",
    "ax[0,0].set_title('1951-1956',fontsize=titlesize)\n",
    "ax[0,1].set_title('2091-2096',fontsize=titlesize)\n",
    "ax[0,2].set_title('Change',fontsize=titlesize)\n",
    "\n",
    "#column 1\n",
    "#0,0\n",
    "d_00=ax[0,0].pcolormesh(monstrings,depthstrings,areamean50cy,cmap=rm,vmin=500,vmax=900)\n",
    "plt.colorbar(d_00,ax=ax[0,0],orientation='horizontal',extend='both',label='Cyclone area ($km^2$)')\n",
    "\n",
    "#0,1\n",
    "d_01=ax[1,0].pcolormesh(monstrings,depthstrings,areamean50ac,cmap=rm,vmin=500,vmax=900)\n",
    "plt.colorbar(d_01,ax=ax[1,0],orientation='horizontal',extend='both',label='Anticyclone area ($km^2$)')\n",
    "\n",
    "#1,0\n",
    "d_10=ax[2,0].pcolormesh(monstrings,depthstrings,amp_mean50cy*10e5,cmap=rm,vmin=2.,vmax=4.5)\n",
    "plt.colorbar(d_10,ax=ax[2,0],orientation='horizontal',extend='both',label='Cyclone vorticity amplitude ($10^5 s^{-1}$)',ticks=[2.5,3.5,4.5],format=ticker.FixedFormatter(['$2.5$','$3.5$','$4.5$']))\n",
    "\n",
    "#1,1\n",
    "d_11=ax[3,0].pcolormesh(monstrings,depthstrings,amp_mean50ac*10e5,cmap=rm,vmin=2.,vmax=4.5)\n",
    "plt.colorbar(d_11,ax=ax[3,0],orientation='horizontal',extend='both',label='Anticyclone vorticity amplitude ($10^5 s^{-1}$)',ticks=[2.5,3.5,4.5],format=ticker.FixedFormatter(['$2.5$','$3.5$','$4.5$']))\n",
    "\n",
    "#column 2\n",
    "#0,0\n",
    "d_00=ax[0,1].pcolormesh(monstrings,depthstrings,areamean90cy,cmap=rm,vmin=500,vmax=900)\n",
    "plt.colorbar(d_00,ax=ax[0,1],orientation='horizontal',extend='both',label='Cyclone area ($km^2$)')\n",
    "\n",
    "#0,1\n",
    "d_01=ax[1,1].pcolormesh(monstrings,depthstrings,areamean90ac,cmap=rm,vmin=500,vmax=900)\n",
    "plt.colorbar(d_01,ax=ax[1,1],orientation='horizontal',extend='both',label='Anticyclone area ($km^2$)')\n",
    "\n",
    "#1,0\n",
    "d_10=ax[2,1].pcolormesh(monstrings,depthstrings,amp_mean90cy*10e5,cmap=rm,vmin=2.,vmax=4.5)\n",
    "plt.colorbar(d_10,ax=ax[2,1],orientation='horizontal',extend='both',label='Cyclone vorticity amplitude ($10^5 s^{-1}$)',ticks=[2.5,3.5,4.5],format=ticker.FixedFormatter(['$2.5$','$3.5$','$4.5$']))\n",
    "\n",
    "#1,1\n",
    "d_11=ax[3,1].pcolormesh(monstrings,depthstrings,amp_mean90ac*10e5,cmap=rm,vmin=2.,vmax=4.5)\n",
    "plt.colorbar(d_11,ax=ax[3,1],orientation='horizontal',extend='both',label='Anticyclone vorticity amplitude ($10^5 s^{-1}$)',ticks=[2.5,3.5,4.5],format=ticker.FixedFormatter(['$2.5$','$3.5$','$4.5$']))\n",
    "\n",
    "#column 3\n",
    "#0,0\n",
    "d_00=ax[0,2].pcolormesh(monstrings,depthstrings,areamean90cy-areamean50cy,cmap=rbm,vmin=-250,vmax=250)\n",
    "plt.colorbar(d_00,ax=ax[0,2],orientation='horizontal',extend='both',label='Δ Cyclone area ($km^2$)')\n",
    "\n",
    "#0,1\n",
    "d_01=ax[1,2].pcolormesh(monstrings,depthstrings,areamean90ac-areamean50ac,cmap=rbm,vmin=-250,vmax=250)\n",
    "plt.colorbar(d_01,ax=ax[1,2],orientation='horizontal',extend='both',label='Δ Anticyclone area ($km^2$)')\n",
    "\n",
    "#1,0\n",
    "d_10=ax[2,2].pcolormesh(monstrings,depthstrings,amp_mean90cy*10e5-amp_mean50cy*10e5,cmap=rbm,vmin=-1.2,vmax=1.2)\n",
    "plt.colorbar(d_10,ax=ax[2,2],orientation='horizontal',extend='both',label='Δ Cyclone vorticity amplitude ($10^5 s^{-1}$)',ticks=[-1,0,1],format=ticker.FixedFormatter(['$-1$','0','$1$']))\n",
    "\n",
    "#1,1\n",
    "d_11=ax[3,2].pcolormesh(monstrings,depthstrings,amp_mean90ac*10e5-amp_mean50ac*10e5,cmap=rbm,vmin=-1.2,vmax=1.2)\n",
    "plt.colorbar(d_11,ax=ax[3,2],orientation='horizontal',extend='both',label='Δ Anticyclone vorticity amplitude ($10^5 s^{-1}$)',ticks=[-1,0,1],format=ticker.FixedFormatter(['$-1$','0','$1$']))\n",
    "\n",
    "#hatching\n",
    "for i in np.arange(4):\n",
    "    ax[i,2].pcolor(monstrings,depthstrings,sigs[i],hatch='/',alpha=0)\n",
    "\n",
    "#labels\n",
    "for num,axis in enumerate(ax[:,0]):\n",
    "    axis.annotate(labels[num], xy=(-0.2, 1.15),xycoords='axes fraction',horizontalalignment='left', \n",
    "                     verticalalignment='top',fontsize=22,weight='bold')\n",
    "    \n",
    "plt.savefig(figpath+'fig_6.png',bbox_inches='tight')"
   ]
  },
  {
   "cell_type": "code",
   "execution_count": null,
   "id": "5237091c-a14b-42cf-bb7c-06ecabb47014",
   "metadata": {},
   "outputs": [],
   "source": []
  }
 ],
 "metadata": {
  "kernelspec": {
   "display_name": "1 Python 3 (based on the module python3/2023.01)",
   "language": "python",
   "name": "python3_2023_01"
  },
  "language_info": {
   "codemirror_mode": {
    "name": "ipython",
    "version": 3
   },
   "file_extension": ".py",
   "mimetype": "text/x-python",
   "name": "python",
   "nbconvert_exporter": "python",
   "pygments_lexer": "ipython3",
   "version": "3.10.10"
  }
 },
 "nbformat": 4,
 "nbformat_minor": 5
}
