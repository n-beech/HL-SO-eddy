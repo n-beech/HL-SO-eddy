{
 "cells": [
  {
   "cell_type": "code",
   "execution_count": null,
   "id": "374cfcb9-cf78-42d3-8b40-e6985e603b6e",
   "metadata": {
    "tags": []
   },
   "outputs": [],
   "source": [
    "import numpy as np\n",
    "import xarray as xr\n",
    "import datetime as dt\n",
    "import sys\n",
    "import xgcm\n",
    "from joblib import Parallel, delayed\n",
    "import eddytools as et\n",
    "import pickle\n",
    "import os"
   ]
  },
  {
   "cell_type": "code",
   "execution_count": null,
   "id": "315cbd76-99b8-40f3-b3cb-ae5edba84157",
   "metadata": {},
   "outputs": [],
   "source": [
    "depth='-27.5m' #'-2.5m' '-97.5m' '-190.0m'"
   ]
  },
  {
   "cell_type": "code",
   "execution_count": null,
   "id": "7ffdd932-0ccc-438e-a630-e9c70d222510",
   "metadata": {
    "tags": []
   },
   "outputs": [],
   "source": [
    "tracking_parameters = {'model': 'MITgcm',\n",
    "                       'grid': 'latlon',\n",
    "                       'start_time': '2091-01-01', # time range start\n",
    "                       'end_time': '2096-12-31', # time range end\n",
    "                       'calendar': 'standard', # calendar, must be either 360_day or standard\n",
    "                       'dt': 1, # temporal resolution of the data in days\n",
    "                        'lon1': -180, # minimum longitude of detection region\n",
    "                        'lon2': 180, # maximum longitude\n",
    "                        'lat1': -80, # minimum latitude\n",
    "                        'lat2': -60, # maximum latitude\n",
    "                       'search_dist': 12000., # maximum distance of search ellipse/circle from eddy center in km\n",
    "                                          # if ellipse: towards the east (if set to 0, it\n",
    "                                          # will be calculated as (150. / (7. / dt)))\n",
    "                       'search_circle': True, # if True, search in a circle. otherwise use ellipse\n",
    "                       'eddy_scale_min': 0.5, # minimum factor by which eddy amplitude and area are allowed to change in one timestep\n",
    "                       'eddy_scale_max': 1.5, # maximum factor by which eddy amplitude and area are allowed to change in one timestep\n",
    "                       'dict': 0, # dictionary containing detected eddies to be used when not stored in files (set to 0 otherwise)\n",
    "                       'data_path': '/PATH/TO/EDDY/DATA/', # path to the detected eddies pickle files\n",
    "                       'file_root': 'so3_et_eddies_'+str(depth)+'_impfil_10-100km',\n",
    "                       'file_spec': 'npm100_owthr0.1',\n",
    "                       'ross_path': '/PATH/TO/ROSSBY/RADIUS/DATA/'} # path to rossrad.dat containing Chelton et a1. 1998 Rossby radii"
   ]
  },
  {
   "cell_type": "code",
   "execution_count": null,
   "id": "507b544c-40bf-483c-87c6-13b9f5cc36d9",
   "metadata": {
    "tags": []
   },
   "outputs": [],
   "source": [
    "def track_and_save(year1,year2):\n",
    "    trapa=tracking_parameters.copy()    \n",
    "    trapa['start_time']=str(year1)+'-01-01'\n",
    "    trapa['end_time']=str(year2)+'-12-31'\n",
    "    \n",
    "    tracks = et.tracking.track(trapa, in_file=True)\n",
    "    \n",
    "    with open('/PATH/TO/OUTPUT/so3_et_track_'+str(depth)+'_10-100kmbp_np100_owthr01_'+str(year1)+'-'+str(year2)+'.pickle','wb') as f:\n",
    "        pickle.dump(tracks,f)"
   ]
  },
  {
   "cell_type": "code",
   "execution_count": null,
   "id": "1ae5e887-1253-4c1f-b6f4-afe6ef06a21a",
   "metadata": {
    "scrolled": true,
    "tags": []
   },
   "outputs": [],
   "source": [
    "track_and_save(1951,1956)"
   ]
  },
  {
   "cell_type": "code",
   "execution_count": null,
   "id": "5b9996e5-14d4-4595-b0f2-7d4e7f7ef313",
   "metadata": {
    "tags": []
   },
   "outputs": [],
   "source": [
    "track_and_save(2091,2096)"
   ]
  },
  {
   "cell_type": "code",
   "execution_count": null,
   "id": "c994bde6-539c-45ac-b682-1f62c9f64db4",
   "metadata": {},
   "outputs": [],
   "source": []
  }
 ],
 "metadata": {
  "kernelspec": {
   "display_name": "1 Python 3 (based on the module python3/2023.01)",
   "language": "python",
   "name": "python3_2023_01"
  },
  "language_info": {
   "codemirror_mode": {
    "name": "ipython",
    "version": 3
   },
   "file_extension": ".py",
   "mimetype": "text/x-python",
   "name": "python",
   "nbconvert_exporter": "python",
   "pygments_lexer": "ipython3",
   "version": "3.10.10"
  }
 },
 "nbformat": 4,
 "nbformat_minor": 5
}
